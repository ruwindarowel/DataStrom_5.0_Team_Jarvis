{
 "cells": [
  {
   "cell_type": "code",
   "execution_count": 336,
   "metadata": {},
   "outputs": [],
   "source": [
    "import pandas as pd\n",
    "import matplotlib.pyplot as plt \n",
    "import numpy as np"
   ]
  },
  {
   "cell_type": "code",
   "execution_count": 337,
   "metadata": {},
   "outputs": [],
   "source": [
    "main_train=pd.read_csv('../Datasets/train_kaggle.csv')\n",
    "main_test=pd.read_csv('../Datasets/test_kaggle.csv')\n",
    "\n",
    "main_train_backup=pd.read_csv('../Datasets/train_kaggle.csv',index_col='Customer_ID')\n",
    "main_test_backup=pd.read_csv('../Datasets/test_kaggle.csv',index_col='Customer_ID')"
   ]
  },
  {
   "cell_type": "code",
   "execution_count": 338,
   "metadata": {},
   "outputs": [],
   "source": [
    "df=main_train\n",
    "df_test=main_test"
   ]
  },
  {
   "cell_type": "code",
   "execution_count": 339,
   "metadata": {},
   "outputs": [
    {
     "data": {
      "text/html": [
       "<div>\n",
       "<style scoped>\n",
       "    .dataframe tbody tr th:only-of-type {\n",
       "        vertical-align: middle;\n",
       "    }\n",
       "\n",
       "    .dataframe tbody tr th {\n",
       "        vertical-align: top;\n",
       "    }\n",
       "\n",
       "    .dataframe thead th {\n",
       "        text-align: right;\n",
       "    }\n",
       "</style>\n",
       "<table border=\"1\" class=\"dataframe\">\n",
       "  <thead>\n",
       "    <tr style=\"text-align: right;\">\n",
       "      <th></th>\n",
       "      <th>Customer_ID</th>\n",
       "      <th>outlet_city</th>\n",
       "      <th>luxury_sales</th>\n",
       "      <th>fresh_sales</th>\n",
       "      <th>dry_sales</th>\n",
       "      <th>cluster_catgeory</th>\n",
       "    </tr>\n",
       "  </thead>\n",
       "  <tbody>\n",
       "    <tr>\n",
       "      <th>0</th>\n",
       "      <td>10493832.0</td>\n",
       "      <td>Kelaniya</td>\n",
       "      <td>1209.6</td>\n",
       "      <td>756.0</td>\n",
       "      <td>5292.0</td>\n",
       "      <td>4</td>\n",
       "    </tr>\n",
       "    <tr>\n",
       "      <th>1</th>\n",
       "      <td>10178643.0</td>\n",
       "      <td>Moratuwa</td>\n",
       "      <td>1590.12</td>\n",
       "      <td>1060.08</td>\n",
       "      <td>6007.12</td>\n",
       "      <td>1</td>\n",
       "    </tr>\n",
       "    <tr>\n",
       "      <th>2</th>\n",
       "      <td>10513916.0</td>\n",
       "      <td>Wattala</td>\n",
       "      <td>2288.88</td>\n",
       "      <td>1481.04</td>\n",
       "      <td>9155.52</td>\n",
       "      <td>4</td>\n",
       "    </tr>\n",
       "    <tr>\n",
       "      <th>3</th>\n",
       "      <td>10334589.0</td>\n",
       "      <td>Wattala</td>\n",
       "      <td>2274.94</td>\n",
       "      <td>1739.66</td>\n",
       "      <td>9099.76</td>\n",
       "      <td>4</td>\n",
       "    </tr>\n",
       "    <tr>\n",
       "      <th>4</th>\n",
       "      <td>10458365.0</td>\n",
       "      <td>Kelaniya</td>\n",
       "      <td>2345.49</td>\n",
       "      <td>2069.55</td>\n",
       "      <td>9243.99</td>\n",
       "      <td>4</td>\n",
       "    </tr>\n",
       "  </tbody>\n",
       "</table>\n",
       "</div>"
      ],
      "text/plain": [
       "   Customer_ID outlet_city luxury_sales fresh_sales dry_sales cluster_catgeory\n",
       "0   10493832.0    Kelaniya       1209.6       756.0    5292.0                4\n",
       "1   10178643.0    Moratuwa      1590.12     1060.08   6007.12                1\n",
       "2   10513916.0     Wattala      2288.88     1481.04   9155.52                4\n",
       "3   10334589.0     Wattala      2274.94     1739.66   9099.76                4\n",
       "4   10458365.0    Kelaniya      2345.49     2069.55   9243.99                4"
      ]
     },
     "execution_count": 339,
     "metadata": {},
     "output_type": "execute_result"
    }
   ],
   "source": [
    "df.head()"
   ]
  },
  {
   "cell_type": "code",
   "execution_count": 340,
   "metadata": {},
   "outputs": [
    {
     "name": "stdout",
     "output_type": "stream",
     "text": [
      "<class 'pandas.core.frame.DataFrame'>\n",
      "RangeIndex: 774155 entries, 0 to 774154\n",
      "Data columns (total 6 columns):\n",
      " #   Column            Non-Null Count   Dtype  \n",
      "---  ------            --------------   -----  \n",
      " 0   Customer_ID       774153 non-null  float64\n",
      " 1   outlet_city       774153 non-null  object \n",
      " 2   luxury_sales      774120 non-null  object \n",
      " 3   fresh_sales       774114 non-null  object \n",
      " 4   dry_sales         774125 non-null  object \n",
      " 5   cluster_catgeory  774154 non-null  object \n",
      "dtypes: float64(1), object(5)\n",
      "memory usage: 35.4+ MB\n"
     ]
    }
   ],
   "source": [
    "df.info()"
   ]
  },
  {
   "cell_type": "code",
   "execution_count": 341,
   "metadata": {},
   "outputs": [
    {
     "name": "stdout",
     "output_type": "stream",
     "text": [
      "Customer_ID has 774154 values\n",
      "outlet_city has 21 values\n",
      "luxury_sales has 143898 values\n",
      "fresh_sales has 257031 values\n",
      "dry_sales has 270132 values\n",
      "cluster_catgeory has 19 values\n"
     ]
    }
   ],
   "source": [
    "def checking_number_of_unique_values(dt):\n",
    "    for col in dt.columns:\n",
    "        print(f\"{col} has {len(dt[col].unique())} values\")\n",
    "        \n",
    "checking_number_of_unique_values(df)"
   ]
  },
  {
   "cell_type": "code",
   "execution_count": 342,
   "metadata": {},
   "outputs": [
    {
     "data": {
      "text/plain": [
       "array(['Kelaniya', 'Moratuwa', 'Wattala', 'Homagama',\n",
       "       'Dehiwala-Mount Lavinia', 'Panadura', 'Kaduwela', 'Peliyagoda',\n",
       "       'Kotte', 'Nuwara Eliya', 'Batticaloa', 'Colombo', 'Jaffna',\n",
       "       'Gampaha', 'Kalmunai', 'Galle', 'Katunayake', 'Negombo',\n",
       "       'Trincomalee', 'Kandy', nan], dtype=object)"
      ]
     },
     "execution_count": 342,
     "metadata": {},
     "output_type": "execute_result"
    }
   ],
   "source": [
    "#Checking city\n",
    "df['outlet_city'].unique()"
   ]
  },
  {
   "cell_type": "code",
   "execution_count": 343,
   "metadata": {},
   "outputs": [],
   "source": [
    "#Handling city\n",
    "df.outlet_city=df.outlet_city.map(lambda x:x.lower() if isinstance(x, str) else x)\n",
    "df_test.outlet_city=df_test.outlet_city.map(lambda x:x.lower() if isinstance(x, str) else x)"
   ]
  },
  {
   "cell_type": "code",
   "execution_count": 344,
   "metadata": {},
   "outputs": [
    {
     "name": "stdout",
     "output_type": "stream",
     "text": [
      "22\n"
     ]
    }
   ],
   "source": [
    "#Handling salles columns\n",
    "\n",
    "#Function to remove anomalies\n",
    "def get_anomaly_indices(dt,col):\n",
    "    ls=[]\n",
    "    indices=[]\n",
    "    for i in range(len(dt)):\n",
    "        try:\n",
    "            ls.append(float(dt[col][i]))\n",
    "        except Exception as e:\n",
    "            indices.append(i)\n",
    "            \n",
    "    return indices\n",
    "\n",
    "#Luxury Sales\n",
    "df_ls=get_anomaly_indices(df,'luxury_sales')\n",
    "df_fs=get_anomaly_indices(df,'fresh_sales')\n",
    "df_ds=get_anomaly_indices(df,'dry_sales')\n",
    "\n",
    "indices_to_drop=np.unique(df_ls+df_fs+df_ds)\n",
    "print(len(indices_to_drop))\n",
    "\n",
    "#Dropping indices\n",
    "df=df.drop(index=indices_to_drop,axis=0)\n",
    "\n",
    "#Turning into float\n",
    "df.luxury_sales=df.luxury_sales.map(lambda x:float(x) if isinstance(x, str) else x)\n",
    "df.fresh_sales=df.fresh_sales.map(lambda x:float(x) if isinstance(x, str) else x)\n",
    "df.dry_sales=df.dry_sales.map(lambda x:float(x) if isinstance(x, str) else x)"
   ]
  },
  {
   "cell_type": "code",
   "execution_count": 345,
   "metadata": {},
   "outputs": [
    {
     "name": "stdout",
     "output_type": "stream",
     "text": [
      "4\n"
     ]
    }
   ],
   "source": [
    "#Luxury Sales\n",
    "df_ls=get_anomaly_indices(df_test,'luxury_sales')\n",
    "df_fs=get_anomaly_indices(df_test,'fresh_sales')\n",
    "df_ds=get_anomaly_indices(df_test,'dry_sales')\n",
    "\n",
    "indices_to_drop=np.unique(df_ls+df_fs+df_ds)\n",
    "print(len(indices_to_drop))\n",
    "\n",
    "#Dropping indices\n",
    "df_test=df_test.drop(index=indices_to_drop,axis=0)\n",
    "\n",
    "#Turning into float\n",
    "df_test.luxury_sales=df_test.luxury_sales.map(lambda x:float(x) if isinstance(x, str) else x)\n",
    "df_test.fresh_sales=df_test.fresh_sales.map(lambda x:float(x) if isinstance(x, str) else x)\n",
    "df_test.dry_sales=df_test.dry_sales.map(lambda x:float(x) if isinstance(x, str) else x)"
   ]
  },
  {
   "cell_type": "code",
   "execution_count": 346,
   "metadata": {},
   "outputs": [
    {
     "name": "stdout",
     "output_type": "stream",
     "text": [
      "<class 'pandas.core.frame.DataFrame'>\n",
      "Index: 774133 entries, 0 to 774154\n",
      "Data columns (total 6 columns):\n",
      " #   Column            Non-Null Count   Dtype  \n",
      "---  ------            --------------   -----  \n",
      " 0   Customer_ID       774131 non-null  float64\n",
      " 1   outlet_city       774131 non-null  object \n",
      " 2   luxury_sales      774098 non-null  float64\n",
      " 3   fresh_sales       774092 non-null  float64\n",
      " 4   dry_sales         774103 non-null  float64\n",
      " 5   cluster_catgeory  774132 non-null  object \n",
      "dtypes: float64(4), object(2)\n",
      "memory usage: 41.3+ MB\n"
     ]
    }
   ],
   "source": [
    "df.info()"
   ]
  },
  {
   "cell_type": "code",
   "execution_count": 347,
   "metadata": {},
   "outputs": [
    {
     "name": "stdout",
     "output_type": "stream",
     "text": [
      "['4' '1' '99' '2' '5' '3' '6' '6\\\\' 4 2 1 95 3 98 5 6 nan 100.0 89.0]\n",
      "[  4.   1.  99.   2.   5.   3.   6.  95.  98.  nan 100.  89.]\n"
     ]
    }
   ],
   "source": [
    "#Handling the cluster categories\n",
    "import warnings \n",
    "warnings.filterwarnings('ignore') \n",
    "\n",
    "#Checking  the target variables\n",
    "print(df['cluster_catgeory'].unique())\n",
    "\n",
    "df.loc[df.cluster_catgeory=='6\\\\',:]\n",
    "df.cluster_catgeory[df.cluster_catgeory=='6\\\\']=6\n",
    "\n",
    "df['cluster_catgeory']=df['cluster_catgeory'].map(lambda x:int(x) if isinstance(x, str) else x)\n",
    "\n",
    "print(df['cluster_catgeory'].unique())"
   ]
  },
  {
   "cell_type": "code",
   "execution_count": 348,
   "metadata": {},
   "outputs": [],
   "source": [
    "#Dropping missing values\n",
    "df=df.dropna()\n",
    "df_test=df_test.dropna()\n"
   ]
  },
  {
   "cell_type": "code",
   "execution_count": 349,
   "metadata": {},
   "outputs": [
    {
     "data": {
      "text/html": [
       "<div>\n",
       "<style scoped>\n",
       "    .dataframe tbody tr th:only-of-type {\n",
       "        vertical-align: middle;\n",
       "    }\n",
       "\n",
       "    .dataframe tbody tr th {\n",
       "        vertical-align: top;\n",
       "    }\n",
       "\n",
       "    .dataframe thead th {\n",
       "        text-align: right;\n",
       "    }\n",
       "</style>\n",
       "<table border=\"1\" class=\"dataframe\">\n",
       "  <thead>\n",
       "    <tr style=\"text-align: right;\">\n",
       "      <th></th>\n",
       "      <th>Customer_ID</th>\n",
       "      <th>outlet_city</th>\n",
       "      <th>luxury_sales</th>\n",
       "      <th>fresh_sales</th>\n",
       "      <th>dry_sales</th>\n",
       "      <th>cluster_catgeory</th>\n",
       "    </tr>\n",
       "  </thead>\n",
       "  <tbody>\n",
       "    <tr>\n",
       "      <th>0</th>\n",
       "      <td>10493832.0</td>\n",
       "      <td>kelaniya</td>\n",
       "      <td>1209.60</td>\n",
       "      <td>756.00</td>\n",
       "      <td>5292.00</td>\n",
       "      <td>4.0</td>\n",
       "    </tr>\n",
       "    <tr>\n",
       "      <th>1</th>\n",
       "      <td>10178643.0</td>\n",
       "      <td>moratuwa</td>\n",
       "      <td>1590.12</td>\n",
       "      <td>1060.08</td>\n",
       "      <td>6007.12</td>\n",
       "      <td>1.0</td>\n",
       "    </tr>\n",
       "    <tr>\n",
       "      <th>2</th>\n",
       "      <td>10513916.0</td>\n",
       "      <td>wattala</td>\n",
       "      <td>2288.88</td>\n",
       "      <td>1481.04</td>\n",
       "      <td>9155.52</td>\n",
       "      <td>4.0</td>\n",
       "    </tr>\n",
       "    <tr>\n",
       "      <th>3</th>\n",
       "      <td>10334589.0</td>\n",
       "      <td>wattala</td>\n",
       "      <td>2274.94</td>\n",
       "      <td>1739.66</td>\n",
       "      <td>9099.76</td>\n",
       "      <td>4.0</td>\n",
       "    </tr>\n",
       "    <tr>\n",
       "      <th>4</th>\n",
       "      <td>10458365.0</td>\n",
       "      <td>kelaniya</td>\n",
       "      <td>2345.49</td>\n",
       "      <td>2069.55</td>\n",
       "      <td>9243.99</td>\n",
       "      <td>4.0</td>\n",
       "    </tr>\n",
       "  </tbody>\n",
       "</table>\n",
       "</div>"
      ],
      "text/plain": [
       "   Customer_ID outlet_city  luxury_sales  fresh_sales  dry_sales  \\\n",
       "0   10493832.0    kelaniya       1209.60       756.00    5292.00   \n",
       "1   10178643.0    moratuwa       1590.12      1060.08    6007.12   \n",
       "2   10513916.0     wattala       2288.88      1481.04    9155.52   \n",
       "3   10334589.0     wattala       2274.94      1739.66    9099.76   \n",
       "4   10458365.0    kelaniya       2345.49      2069.55    9243.99   \n",
       "\n",
       "   cluster_catgeory  \n",
       "0               4.0  \n",
       "1               1.0  \n",
       "2               4.0  \n",
       "3               4.0  \n",
       "4               4.0  "
      ]
     },
     "execution_count": 349,
     "metadata": {},
     "output_type": "execute_result"
    }
   ],
   "source": [
    "df.head()"
   ]
  },
  {
   "cell_type": "markdown",
   "metadata": {},
   "source": [
    "Given it is only 5 values we drop them"
   ]
  },
  {
   "cell_type": "code",
   "execution_count": 350,
   "metadata": {},
   "outputs": [],
   "source": [
    "df=df.loc[df.cluster_catgeory<=6,:]"
   ]
  },
  {
   "cell_type": "code",
   "execution_count": 351,
   "metadata": {},
   "outputs": [
    {
     "data": {
      "text/html": [
       "<div>\n",
       "<style scoped>\n",
       "    .dataframe tbody tr th:only-of-type {\n",
       "        vertical-align: middle;\n",
       "    }\n",
       "\n",
       "    .dataframe tbody tr th {\n",
       "        vertical-align: top;\n",
       "    }\n",
       "\n",
       "    .dataframe thead th {\n",
       "        text-align: right;\n",
       "    }\n",
       "</style>\n",
       "<table border=\"1\" class=\"dataframe\">\n",
       "  <thead>\n",
       "    <tr style=\"text-align: right;\">\n",
       "      <th></th>\n",
       "      <th>Customer_ID</th>\n",
       "      <th>outlet_city</th>\n",
       "      <th>luxury_sales</th>\n",
       "      <th>fresh_sales</th>\n",
       "      <th>dry_sales</th>\n",
       "      <th>cluster_catgeory</th>\n",
       "    </tr>\n",
       "  </thead>\n",
       "  <tbody>\n",
       "    <tr>\n",
       "      <th>0</th>\n",
       "      <td>10493832.0</td>\n",
       "      <td>kelaniya</td>\n",
       "      <td>1209.60</td>\n",
       "      <td>756.00</td>\n",
       "      <td>5292.00</td>\n",
       "      <td>4.0</td>\n",
       "    </tr>\n",
       "    <tr>\n",
       "      <th>1</th>\n",
       "      <td>10178643.0</td>\n",
       "      <td>moratuwa</td>\n",
       "      <td>1590.12</td>\n",
       "      <td>1060.08</td>\n",
       "      <td>6007.12</td>\n",
       "      <td>1.0</td>\n",
       "    </tr>\n",
       "    <tr>\n",
       "      <th>2</th>\n",
       "      <td>10513916.0</td>\n",
       "      <td>wattala</td>\n",
       "      <td>2288.88</td>\n",
       "      <td>1481.04</td>\n",
       "      <td>9155.52</td>\n",
       "      <td>4.0</td>\n",
       "    </tr>\n",
       "    <tr>\n",
       "      <th>3</th>\n",
       "      <td>10334589.0</td>\n",
       "      <td>wattala</td>\n",
       "      <td>2274.94</td>\n",
       "      <td>1739.66</td>\n",
       "      <td>9099.76</td>\n",
       "      <td>4.0</td>\n",
       "    </tr>\n",
       "    <tr>\n",
       "      <th>4</th>\n",
       "      <td>10458365.0</td>\n",
       "      <td>kelaniya</td>\n",
       "      <td>2345.49</td>\n",
       "      <td>2069.55</td>\n",
       "      <td>9243.99</td>\n",
       "      <td>4.0</td>\n",
       "    </tr>\n",
       "  </tbody>\n",
       "</table>\n",
       "</div>"
      ],
      "text/plain": [
       "   Customer_ID outlet_city  luxury_sales  fresh_sales  dry_sales  \\\n",
       "0   10493832.0    kelaniya       1209.60       756.00    5292.00   \n",
       "1   10178643.0    moratuwa       1590.12      1060.08    6007.12   \n",
       "2   10513916.0     wattala       2288.88      1481.04    9155.52   \n",
       "3   10334589.0     wattala       2274.94      1739.66    9099.76   \n",
       "4   10458365.0    kelaniya       2345.49      2069.55    9243.99   \n",
       "\n",
       "   cluster_catgeory  \n",
       "0               4.0  \n",
       "1               1.0  \n",
       "2               4.0  \n",
       "3               4.0  \n",
       "4               4.0  "
      ]
     },
     "execution_count": 351,
     "metadata": {},
     "output_type": "execute_result"
    }
   ],
   "source": [
    "df.head()"
   ]
  },
  {
   "cell_type": "code",
   "execution_count": 352,
   "metadata": {},
   "outputs": [
    {
     "name": "stdout",
     "output_type": "stream",
     "text": [
      "<class 'pandas.core.frame.DataFrame'>\n",
      "Index: 774034 entries, 0 to 774154\n",
      "Data columns (total 6 columns):\n",
      " #   Column            Non-Null Count   Dtype  \n",
      "---  ------            --------------   -----  \n",
      " 0   Customer_ID       774034 non-null  float64\n",
      " 1   outlet_city       774034 non-null  object \n",
      " 2   luxury_sales      774034 non-null  float64\n",
      " 3   fresh_sales       774034 non-null  float64\n",
      " 4   dry_sales         774034 non-null  float64\n",
      " 5   cluster_catgeory  774034 non-null  float64\n",
      "dtypes: float64(5), object(1)\n",
      "memory usage: 41.3+ MB\n"
     ]
    }
   ],
   "source": [
    "df.info()"
   ]
  },
  {
   "cell_type": "code",
   "execution_count": 354,
   "metadata": {},
   "outputs": [
    {
     "name": "stdout",
     "output_type": "stream",
     "text": [
      "<class 'pandas.core.frame.DataFrame'>\n",
      "Index: 40745 entries, 0 to 40748\n",
      "Data columns (total 5 columns):\n",
      " #   Column        Non-Null Count  Dtype  \n",
      "---  ------        --------------  -----  \n",
      " 0   Customer_ID   40745 non-null  int64  \n",
      " 1   outlet_city   40745 non-null  object \n",
      " 2   luxury_sales  40745 non-null  float64\n",
      " 3   fresh_sales   40745 non-null  float64\n",
      " 4   dry_sales     40745 non-null  float64\n",
      "dtypes: float64(3), int64(1), object(1)\n",
      "memory usage: 1.9+ MB\n"
     ]
    }
   ],
   "source": [
    "df_test.info()"
   ]
  },
  {
   "cell_type": "code",
   "execution_count": 355,
   "metadata": {},
   "outputs": [],
   "source": [
    "## Sending data\n",
    "df.to_csv('../Datasets/train.csv',index='Customer_ID')\n",
    "df_test.to_csv('../Datasets/test.csv',index='Customer_ID')"
   ]
  }
 ],
 "metadata": {
  "kernelspec": {
   "display_name": "Python 3",
   "language": "python",
   "name": "python3"
  },
  "language_info": {
   "codemirror_mode": {
    "name": "ipython",
    "version": 3
   },
   "file_extension": ".py",
   "mimetype": "text/x-python",
   "name": "python",
   "nbconvert_exporter": "python",
   "pygments_lexer": "ipython3",
   "version": "3.10.14"
  }
 },
 "nbformat": 4,
 "nbformat_minor": 2
}
