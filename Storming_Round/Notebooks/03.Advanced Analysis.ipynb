{
 "cells": [
  {
   "cell_type": "code",
   "execution_count": 1,
   "metadata": {},
   "outputs": [],
   "source": [
    "from sklearn.model_selection import train_test_split\n",
    "import pandas as pd\n",
    "import numpy as np \n",
    "import matplotlib.pyplot as plt                       \n",
    "import seaborn as sns\n",
    "import plotly.express as px "
   ]
  },
  {
   "cell_type": "code",
   "execution_count": 2,
   "metadata": {},
   "outputs": [
    {
     "name": "stderr",
     "output_type": "stream",
     "text": [
      "C:\\Users\\Asus\\AppData\\Local\\Temp\\ipykernel_40672\\235452377.py:1: DtypeWarning: Columns (3,4,5) have mixed types. Specify dtype option on import or set low_memory=False.\n",
      "  train=pd.read_csv('../Datasets/train_kaggle.csv')\n",
      "C:\\Users\\Asus\\AppData\\Local\\Temp\\ipykernel_40672\\235452377.py:4: DtypeWarning: Columns (3,4,5) have mixed types. Specify dtype option on import or set low_memory=False.\n",
      "  main_train_backup=pd.read_csv('../Datasets/train_kaggle.csv',index_col='Customer_ID')\n"
     ]
    }
   ],
   "source": [
    "train=pd.read_csv('../Datasets/train_kaggle.csv')\n",
    "test=pd.read_csv('../Datasets/test_kaggle.csv')\n",
    "\n",
    "main_train_backup=pd.read_csv('../Datasets/train_kaggle.csv',index_col='Customer_ID')\n",
    "main_test_backup=pd.read_csv('../Datasets/test_kaggle.csv',index_col='Customer_ID')"
   ]
  },
  {
   "cell_type": "code",
   "execution_count": 3,
   "metadata": {},
   "outputs": [
    {
     "name": "stdout",
     "output_type": "stream",
     "text": [
      "Rows where 'luxury_sales' contains non-numeric values:\n",
      "        Customer_ID             outlet_city  \\\n",
      "4234     10101878.0  Dehiwala-Mount Lavinia   \n",
      "4333     10361798.0                   Kotte   \n",
      "5375     10556752.0                Moratuwa   \n",
      "5408     10321643.0              Peliyagoda   \n",
      "78367    10424117.0                   Kotte   \n",
      "78380    10343473.0              Peliyagoda   \n",
      "80043    10774052.0                Kelaniya   \n",
      "174628   10207785.0                Kelaniya   \n",
      "175278   10347733.0              Peliyagoda   \n",
      "296621   10215937.0                Panadura   \n",
      "297911   10189925.0                Kelaniya   \n",
      "326593   10467590.0            Nuwara Eliya   \n",
      "327258   10615996.0                Kelaniya   \n",
      "327259   10346205.0  Dehiwala-Mount Lavinia   \n",
      "327260   10722463.0            Nuwara Eliya   \n",
      "327261   10221069.0                Panadura   \n",
      "329847   10328520.0                 Wattala   \n",
      "329848   10155003.0                Homagama   \n",
      "329849   10600486.0                   Kotte   \n",
      "352298   10703170.0  Dehiwala-Mount Lavinia   \n",
      "352662   10638607.0                Kaduwela   \n",
      "352663   10223839.0                Moratuwa   \n",
      "352664   10418282.0                Homagama   \n",
      "367935   10445384.0                   Galle   \n",
      "496140   10616379.0                 Colombo   \n",
      "497177   10537755.0                   Kandy   \n",
      "497245   10468127.0                   Kandy   \n",
      "497485   10751852.0                   Galle   \n",
      "554998   10420777.0                   Kandy   \n",
      "555305   10224685.0                 Gampaha   \n",
      "555469   10692500.0                 Negombo   \n",
      "555573   10294701.0             Trincomalee   \n",
      "555610   10262970.0                 Gampaha   \n",
      "555764   10335139.0              Batticaloa   \n",
      "558562   10076064.0             Trincomalee   \n",
      "722325   10109635.0                   Galle   \n",
      "723874   10387271.0                 Negombo   \n",
      "752560   10328899.0                 Gampaha   \n",
      "753131   10695296.0              Batticaloa   \n",
      "753275   10680540.0                 Gampaha   \n",
      "753276   10634600.0              Katunayake   \n",
      "753277   10140621.0                   Galle   \n",
      "753278   10659621.0                 Colombo   \n",
      "753454   10668547.0                Kalmunai   \n",
      "755630   10537627.0                 Gampaha   \n",
      "\n",
      "                               luxury_sales fresh_sales dry_sales  \\\n",
      "4234                                    NaN     1686.36   9556.04   \n",
      "4333                                    NaN         NaN   6589.44   \n",
      "5375                                    NaN     1328.88    7751.8   \n",
      "5408                                    NaN         NaN   3630.09   \n",
      "78367                                   NaN         NaN   3472.08   \n",
      "78380                                   NaN         NaN    7337.4   \n",
      "80043     One thousand four hundread ruppes      1118.0    5934.0   \n",
      "174628                                  NaN      9322.5   2683.75   \n",
      "175278                                  nul     4286.28       nul   \n",
      "296621                                  nul     8155.11       nul   \n",
      "297911               Eight hundread ruppess     4003.84   1059.84   \n",
      "326593              six hundread and hirty       3420.3    894.54   \n",
      "327258                                  NaN     8554.92   2073.92   \n",
      "327259                                  NaN      4391.1    940.95   \n",
      "327260                                  NaN     5384.92   1425.42   \n",
      "327261                                  NaN     7644.51    2215.8   \n",
      "329847                                  NaN     3189.78   3093.12   \n",
      "329848                                  NaN      4383.6   4821.96   \n",
      "329849                                  NaN     4666.24   4957.88   \n",
      "352298                                  NaN         NaN    1795.2   \n",
      "352662                                  NaN     2676.23   3021.55   \n",
      "352663                                  NaN     1985.24   2113.32   \n",
      "352664                                  NaN     4092.66   3968.64   \n",
      "367935                                  nul     1919.13   7563.63   \n",
      "496140                                  NaN      2783.7  12248.28   \n",
      "497177               Thousand tow hundread       2041.0    6939.4   \n",
      "497245      seven hundread and nine ruppees     1032.48   4194.45   \n",
      "497485                                  NaN     1179.18   4520.19   \n",
      "554998                                  NaN     1037.88       NaN   \n",
      "555305                                  NaN     2243.52       NaN   \n",
      "555469                                  NaN     3283.56       NaN   \n",
      "555573                                  NaN     3163.04  13047.54   \n",
      "555610                                  NaN     2035.85    7286.2   \n",
      "555764                                  NaN         NaN   9614.46   \n",
      "558562  Three thousand two hundread ruppess     10416.9   1923.12   \n",
      "722325                                  NaN     7809.12    1183.2   \n",
      "723874                                  NaN         NaN   1525.05   \n",
      "752560                                  NaN         NaN   3243.84   \n",
      "753131   Four thousand one hundread ruppess     4286.72   4034.56   \n",
      "753275                                  NaN        3688   3572.75   \n",
      "753276                                  NaN     5330.86    4703.7   \n",
      "753277                                  NaN      5135.7    4531.5   \n",
      "753278                                  NaN     3976.32   3852.06   \n",
      "753454                                  NaN         NaN   3074.88   \n",
      "755630                                  NaN     5371.37   5717.91   \n",
      "\n",
      "       cluster_catgeory  \n",
      "4234                  4  \n",
      "4333                  4  \n",
      "5375                  4  \n",
      "5408                  4  \n",
      "78367                 4  \n",
      "78380                 4  \n",
      "80043                 4  \n",
      "174628                2  \n",
      "175278                2  \n",
      "296621                2  \n",
      "297911                2  \n",
      "326593                2  \n",
      "327258                2  \n",
      "327259                2  \n",
      "327260                2  \n",
      "327261                2  \n",
      "329847                5  \n",
      "329848                5  \n",
      "329849                5  \n",
      "352298                5  \n",
      "352662                5  \n",
      "352663                5  \n",
      "352664                5  \n",
      "367935                2  \n",
      "496140                1  \n",
      "497177                1  \n",
      "497245                1  \n",
      "497485                5  \n",
      "554998              1.0  \n",
      "555305              1.0  \n",
      "555469              1.0  \n",
      "555573              1.0  \n",
      "555610              1.0  \n",
      "555764              1.0  \n",
      "558562              6.0  \n",
      "722325                6  \n",
      "723874                6  \n",
      "752560                6  \n",
      "753131                3  \n",
      "753275                3  \n",
      "753276                3  \n",
      "753277                3  \n",
      "753278                3  \n",
      "753454                3  \n",
      "755630                3  \n",
      "\n",
      "Rows where 'fresh_sales' contains non-numeric values:\n",
      "        Customer_ID             outlet_city luxury_sales  \\\n",
      "4326     10531406.0                Kaduwela        925.8   \n",
      "4327     10311229.0                Panadura         2374   \n",
      "4333     10361798.0                   Kotte          NaN   \n",
      "4929     10414692.0                Kaduwela       1780.8   \n",
      "5379     10600529.0                 Wattala       1405.4   \n",
      "5403     10484539.0              Peliyagoda       1167.2   \n",
      "5408     10321643.0              Peliyagoda          NaN   \n",
      "78367    10424117.0                   Kotte          NaN   \n",
      "78380    10343473.0              Peliyagoda          NaN   \n",
      "78400    10504943.0                Moratuwa      2312.16   \n",
      "161810   10261075.0                Panadura       887.36   \n",
      "174714   10358037.0            Nuwara Eliya      1012.34   \n",
      "268571   10047014.0                Panadura       1808.3   \n",
      "326334   10006007.0                Kaduwela       758.52   \n",
      "326763   10301959.0                Kaduwela       950.62   \n",
      "326764   10671014.0              Peliyagoda       1066.8   \n",
      "326765   10687830.0              Peliyagoda      1340.08   \n",
      "327495   10099173.0                 Wattala      1303.92   \n",
      "327505   10312003.0                Kaduwela      1303.06   \n",
      "329931   10540582.0                Kaduwela      3139.06   \n",
      "352298   10703170.0  Dehiwala-Mount Lavinia          NaN   \n",
      "352658   10418309.0                Moratuwa      2164.05   \n",
      "354153   10210509.0                Kelaniya       3214.7   \n",
      "496138   10559183.0              Katunayake       656.28   \n",
      "497003   10367366.0                 Colombo       1621.8   \n",
      "497445   10168166.0              Katunayake       641.74   \n",
      "497446   10545713.0                   Kandy      1694.11   \n",
      "497447   10624363.0                 Negombo      1069.09   \n",
      "497598   10570526.0                 Gampaha      1328.74   \n",
      "555470   10403312.0                 Negombo      2732.94   \n",
      "555607   10488405.0                 Gampaha      1989.36   \n",
      "555764   10335139.0              Batticaloa          NaN   \n",
      "558897   10314616.0              Batticaloa      3027.36   \n",
      "628150   10608125.0              Katunayake       1160.9   \n",
      "695316   10028364.0                   Kandy      2410.08   \n",
      "722329   10119144.0                 Colombo      1260.48   \n",
      "723874   10387271.0                 Negombo          NaN   \n",
      "724767   10549421.0                  Jaffna      2255.68   \n",
      "724768   10092521.0                 Negombo       2501.1   \n",
      "724769   10477511.0                 Colombo      2420.96   \n",
      "752560   10328899.0                 Gampaha          NaN   \n",
      "752816   10369123.0             Trincomalee      5501.57   \n",
      "753256   10369199.0                 Colombo       2692.8   \n",
      "753378   10390803.0                 Negombo       3517.3   \n",
      "753379   10199267.0             Trincomalee      6552.14   \n",
      "753380   10698117.0                 Negombo      2917.12   \n",
      "753454   10668547.0                Kalmunai          NaN   \n",
      "753696   10090034.0                Kalmunai       6002.7   \n",
      "754304   10006333.0              Batticaloa      3932.66   \n",
      "765777   10499622.0              Katunayake      5315.57   \n",
      "\n",
      "                                fresh_sales dry_sales cluster_catgeory  \n",
      "4326                                    NaN    4011.8                4  \n",
      "4327                                    NaN    7715.5                4  \n",
      "4333                                    NaN   6589.44                4  \n",
      "4929                                    NaN       NaN                4  \n",
      "5379                                    NaN   4637.82                4  \n",
      "5403                                    NaN    4085.2                4  \n",
      "5408                                    NaN   3630.09                4  \n",
      "78367                                   NaN   3472.08                4  \n",
      "78380                                   NaN    7337.4                4  \n",
      "78400                                   NaN       NaN                4  \n",
      "161810         Six hundread and five ruppes    3604.9                4  \n",
      "174714                                  nul    1446.2                2  \n",
      "268571                                  nul       nul                2  \n",
      "326334     Three thousana and five hundread   1029.42                2  \n",
      "326763                                  NaN   1469.14                2  \n",
      "326764                                  NaN    1295.4                2  \n",
      "326765                                  NaN   1818.68                2  \n",
      "327495                                  nul       nul                2  \n",
      "327505                                  nul       nul                2  \n",
      "329931                                  NaN       NaN                5  \n",
      "352298                                  NaN    1795.2                5  \n",
      "352658                                  NaN   1916.73                5  \n",
      "354153                                  NaN    3025.6                5  \n",
      "496138                                  NaN   3554.85                1  \n",
      "497003                                  NaN       NaN                1  \n",
      "497445                                  NaN   3850.44                1  \n",
      "497446                                  NaN  10164.66                1  \n",
      "497447                                  NaN   6317.35                1  \n",
      "497598                                  NaN   6264.06                1  \n",
      "555470                                  NaN  12883.86              1.0  \n",
      "555607                                  NaN   10775.7              1.0  \n",
      "555764                                  NaN   9614.46              1.0  \n",
      "558897             thirteen thousand ruppes   2081.31              6.0  \n",
      "628150                                  NaN     794.3              6.0  \n",
      "695316                                  NaN   1656.93                6  \n",
      "722329                                  NaN    945.36                6  \n",
      "723874                                  NaN   1525.05                6  \n",
      "724767                                  NaN   1305.92                6  \n",
      "724768                                  NaN   2334.36                6  \n",
      "724769                                  NaN   1815.72                6  \n",
      "752560                                  NaN   3243.84                6  \n",
      "752816                 Five thousand ruppes   5679.04                3  \n",
      "753256  Two thousand seven hundread ruppess    2861.1                1  \n",
      "753378                                  NaN   3206.95                3  \n",
      "753379                                  NaN   6166.72                3  \n",
      "753380                                  NaN   3099.44                3  \n",
      "753454                                  NaN   3074.88                3  \n",
      "753696                                  NaN       NaN                3  \n",
      "754304                                  NaN   4186.38                3  \n",
      "765777                                  NaN   5829.98                3  \n",
      "\n",
      "Rows where 'dry_sales' contains non-numeric values:\n",
      "        Customer_ID             outlet_city luxury_sales fresh_sales  \\\n",
      "4929     10414692.0                Kaduwela       1780.8         NaN   \n",
      "78400    10504943.0                Moratuwa      2312.16         NaN   \n",
      "148029   10190107.0  Dehiwala-Mount Lavinia        931.5       931.5   \n",
      "174631   10273730.0                Homagama      1074.36     5141.58   \n",
      "174720   10039004.0                Kaduwela       944.44      4722.2   \n",
      "175278   10347733.0              Peliyagoda          nul     4286.28   \n",
      "268571   10047014.0                Panadura       1808.3         nul   \n",
      "296621   10215937.0                Panadura          nul     8155.11   \n",
      "327168   10649653.0                   Kotte       626.16     3548.24   \n",
      "327169   10737280.0            Nuwara Eliya        820.2      5741.4   \n",
      "327170   10010850.0              Peliyagoda      1059.96     6456.12   \n",
      "327171   10347930.0                Homagama       1216.8     5353.92   \n",
      "327172   10351890.0                 Wattala       1817.2      8826.4   \n",
      "327173   10025449.0            Nuwara Eliya      1341.72     7491.27   \n",
      "327174   10638161.0              Peliyagoda       1033.2      5018.4   \n",
      "327495   10099173.0                 Wattala      1303.92         nul   \n",
      "327505   10312003.0                Kaduwela      1303.06         nul   \n",
      "329931   10540582.0                Kaduwela      3139.06         NaN   \n",
      "345090   10186598.0              Peliyagoda       1773.1     1616.65   \n",
      "345091   10215208.0  Dehiwala-Mount Lavinia      4879.68     4592.64   \n",
      "345092   10530946.0                 Wattala      3713.82     3713.82   \n",
      "353317   10659375.0                 Wattala       2591.7     2937.26   \n",
      "496135   10501123.0                 Gampaha      2064.79     2858.94   \n",
      "497003   10367366.0                 Colombo       1621.8         NaN   \n",
      "497464   10155270.0                 Colombo       759.78      1085.4   \n",
      "497583   10234709.0                   Kandy      2139.06     3305.82   \n",
      "497597   10345956.0                 Gampaha      1806.96     2710.44   \n",
      "554998   10420777.0                   Kandy          NaN     1037.88   \n",
      "555305   10224685.0                 Gampaha          NaN     2243.52   \n",
      "555469   10692500.0                 Negombo          NaN     3283.56   \n",
      "555536   10092366.0              Batticaloa      2137.74     3692.46   \n",
      "555604   10063564.0                   Galle      2196.84     3112.19   \n",
      "753448   10460776.0                 Colombo       4479.5        4624   \n",
      "753449   10396264.0                 Colombo         2388      2547.2   \n",
      "753450   10178858.0                 Gampaha       6640.2     6071.04   \n",
      "753696   10090034.0                Kalmunai       6002.7         NaN   \n",
      "754306   10726566.0                  Jaffna      2728.95     2417.07   \n",
      "774147   10493702.0              Katunayake      2624.65      2249.7   \n",
      "\n",
      "                                    dry_sales cluster_catgeory  \n",
      "4929                                      NaN                4  \n",
      "78400                                     NaN                4  \n",
      "148029  Four thousand and two hundread ruppes                4  \n",
      "174631                                    nul                2  \n",
      "174720                                    nul                2  \n",
      "175278                                    nul                2  \n",
      "268571                                    nul                2  \n",
      "296621                                    nul                2  \n",
      "327168                                    NaN                2  \n",
      "327169                                    NaN                2  \n",
      "327170                                    NaN                2  \n",
      "327171                                    NaN                2  \n",
      "327172                                    NaN                2  \n",
      "327173                                    NaN                2  \n",
      "327174                                    NaN                2  \n",
      "327495                                    nul                2  \n",
      "327505                                    nul                2  \n",
      "329931                                    NaN                5  \n",
      "345090                                    NaN                5  \n",
      "345091                                    NaN                5  \n",
      "345092                                    NaN                5  \n",
      "353317                                    NaN                5  \n",
      "496135                                    NaN                1  \n",
      "497003                                    NaN                1  \n",
      "497464                                    NaN                1  \n",
      "497583                                    NaN                1  \n",
      "497597                                    NaN                1  \n",
      "554998                                    NaN              1.0  \n",
      "555305                                    NaN              1.0  \n",
      "555469                                    NaN              1.0  \n",
      "555536                                    NaN              1.0  \n",
      "555604                                    NaN              1.0  \n",
      "753448                                    NaN                3  \n",
      "753449                                    NaN                3  \n",
      "753450                                    NaN                3  \n",
      "753696                                    NaN                3  \n",
      "754306                                    NaN                3  \n",
      "774147                                    NaN                3  \n"
     ]
    }
   ],
   "source": [
    "luxury_sales_non_numeric_rows = train[pd.to_numeric(train['luxury_sales'], errors='coerce').isna()]\n",
    "fresh_sales_non_numeric_rows = train[pd.to_numeric(train['fresh_sales'], errors='coerce').isna()]\n",
    "dry_sales_non_numeric_rows = train[pd.to_numeric(train['dry_sales'], errors='coerce').isna()]\n",
    "\n",
    "print(\"Rows where 'luxury_sales' contains non-numeric values:\")\n",
    "print(luxury_sales_non_numeric_rows)\n",
    "\n",
    "print(\"\\nRows where 'fresh_sales' contains non-numeric values:\")\n",
    "print(fresh_sales_non_numeric_rows)\n",
    "\n",
    "print(\"\\nRows where 'dry_sales' contains non-numeric values:\")\n",
    "print(dry_sales_non_numeric_rows)"
   ]
  },
  {
   "cell_type": "code",
   "execution_count": 4,
   "metadata": {},
   "outputs": [
    {
     "name": "stdout",
     "output_type": "stream",
     "text": [
      "Rows where 'luxury_sales' contains non-numeric values:\n",
      "      Customer_ID   outlet_city                       luxury_sales  \\\n",
      "6           10364    batticaloa   Seven Hundread and sixty Ruppees   \n",
      "6299         4059  Anuradhapura  Eight Hundread and fifteen ruppes   \n",
      "\n",
      "     fresh_sales dry_sales  \n",
      "6          914.4    3352.8  \n",
      "6299     1548.69    5705.7  \n",
      "\n",
      "Rows where 'fresh_sales' contains non-numeric values:\n",
      "       Customer_ID outlet_city luxury_sales            fresh_sales dry_sales\n",
      "13949        28662      Jaffna      2195.84  Nine thousand ruppess   1509.64\n",
      "\n",
      "Rows where 'dry_sales' contains non-numeric values:\n",
      "       Customer_ID outlet_city luxury_sales fresh_sales  \\\n",
      "40746        28664     Wattala       3838.6      3951.5   \n",
      "\n",
      "                                   dry_sales  \n",
      "40746  Three Thousand seven hundread ruppees  \n"
     ]
    }
   ],
   "source": [
    "luxury_sales_non_numeric_rows = test[pd.to_numeric(test['luxury_sales'], errors='coerce').isna()]\n",
    "fresh_sales_non_numeric_rows = test[pd.to_numeric(test['fresh_sales'], errors='coerce').isna()]\n",
    "dry_sales_non_numeric_rows = test[pd.to_numeric(test['dry_sales'], errors='coerce').isna()]\n",
    "\n",
    "print(\"Rows where 'luxury_sales' contains non-numeric values:\")\n",
    "print(luxury_sales_non_numeric_rows)\n",
    "\n",
    "print(\"\\nRows where 'fresh_sales' contains non-numeric values:\")\n",
    "print(fresh_sales_non_numeric_rows)\n",
    "\n",
    "print(\"\\nRows where 'dry_sales' contains non-numeric values:\")\n",
    "print(dry_sales_non_numeric_rows)"
   ]
  },
  {
   "cell_type": "code",
   "execution_count": 5,
   "metadata": {},
   "outputs": [],
   "source": [
    "# Mapping dictionary for specific textual representations to numbers\n",
    "text_to_number_mapping = {\n",
    "    'one thousand four hundread ruppes': 1400,\n",
    "    'eight hundread ruppess': 800,\n",
    "    'six hundread and hirty ': 630,\n",
    "    'thousand tow hundread ': 1200,\n",
    "    'seven hundread and nine ruppees': 709,\n",
    "    'three thousand two hundread ruppess': 3200,\n",
    "    'six hundread and thirty': 630,\n",
    "    'six hundread and five ruppes': 605,\n",
    "    'three thousana and five hundread': 3500,\n",
    "    'thirteen thousand ruppes': 13000,\n",
    "    'five thousand ruppes': 5000,\n",
    "    'two thousand seven hundread ruppess': 2700,\n",
    "    'four thousand one hundread ruppess': 4100,\n",
    "    'four thousand and two hundread ruppes': 4200,\n",
    "    'seven hundread and sixty ruppees' : 760,\n",
    "    'eight hundread and fifteen ruppes' : 815,\n",
    "    'nine thousand ruppess' : 9000,\n",
    "    'three thousand seven hundread ruppees' : 3700\n",
    "}\n",
    "\n",
    "# Function to convert specific textual representations to numbers\n",
    "def text_to_number(text):\n",
    "    if pd.isna(text):\n",
    "        return text\n",
    "    if isinstance(text, str):\n",
    "        text = text.lower()\n",
    "        if text == 'nul':\n",
    "            return float('nan')  # Convert 'nul' to NaN\n",
    "        return text_to_number_mapping.get(text, text)\n",
    "    else:\n",
    "        return text"
   ]
  },
  {
   "cell_type": "code",
   "execution_count": 6,
   "metadata": {},
   "outputs": [],
   "source": [
    "train['luxury_sales'] = train['luxury_sales'].apply(text_to_number)\n",
    "train['fresh_sales'] = train['fresh_sales'].apply(text_to_number)\n",
    "train['dry_sales'] = train['dry_sales'].apply(text_to_number)\n",
    "\n",
    "test['luxury_sales'] = test['luxury_sales'].apply(text_to_number)\n",
    "test['fresh_sales'] = test['fresh_sales'].apply(text_to_number)\n",
    "test['dry_sales'] = test['dry_sales'].apply(text_to_number)"
   ]
  },
  {
   "cell_type": "code",
   "execution_count": 7,
   "metadata": {},
   "outputs": [
    {
     "name": "stdout",
     "output_type": "stream",
     "text": [
      "Customer_ID : 2 (0.0%)\n",
      "outlet_city : 2 (0.0%)\n",
      "luxury_sales : 38 (0.005%)\n",
      "fresh_sales : 45 (0.006%)\n",
      "dry_sales : 37 (0.005%)\n",
      "cluster_catgeory : 1 (0.0%)\n"
     ]
    },
    {
     "data": {
      "text/plain": [
       "{'Customer_ID': 0.00025834619682105003,\n",
       " 'outlet_city': 0.00025834619682105003,\n",
       " 'luxury_sales': 0.0049085777395999515,\n",
       " 'fresh_sales': 0.005812789428473626,\n",
       " 'dry_sales': 0.0047794046411894255,\n",
       " 'cluster_catgeory': 0.00012917309841052501}"
      ]
     },
     "execution_count": 7,
     "metadata": {},
     "output_type": "execute_result"
    }
   ],
   "source": [
    "def get_numerical_summary(df):\n",
    "    total = train.shape[0]\n",
    "    missing_columns = [col for col in train.columns if train[col].isnull().sum() > 0]\n",
    "    missing_percent = {}\n",
    "    for col in missing_columns:\n",
    "        null_count = train[col].isnull().sum()\n",
    "        per = (null_count/total) * 100\n",
    "        missing_percent[col] = per\n",
    "        print(\"{} : {} ({}%)\".format(col, null_count, round(per, 3)))\n",
    "    return missing_percent\n",
    "\n",
    "get_numerical_summary(train)"
   ]
  },
  {
   "cell_type": "code",
   "execution_count": 8,
   "metadata": {},
   "outputs": [
    {
     "name": "stdout",
     "output_type": "stream",
     "text": [
      "outlet_city\n",
      "Colombo                   41031\n",
      "Batticaloa                41012\n",
      "Galle                     41010\n",
      "Kalmunai                  40711\n",
      "Negombo                   40703\n",
      "Jaffna                    40675\n",
      "Katunayake                40649\n",
      "Kandy                     40534\n",
      "Trincomalee               40528\n",
      "Gampaha                   40252\n",
      "Peliyagoda                37151\n",
      "Nuwara Eliya              37102\n",
      "Dehiwala-Mount Lavinia    36839\n",
      "Kotte                     36788\n",
      "Panadura                  36726\n",
      "Wattala                   36721\n",
      "Kaduwela                  36695\n",
      "Homagama                  36639\n",
      "Moratuwa                  36417\n",
      "Kelaniya                  35970\n",
      "Name: count, dtype: int64\n",
      "outlet_city\n",
      "Jaffna                    2226\n",
      "Gampaha                   2198\n",
      "Katunayake                2157\n",
      "Negombo                   2129\n",
      "Kandy                     2101\n",
      "Colombo                   2092\n",
      "Dehiwala-Mount Lavinia    1981\n",
      "Nuwara Eliya              1963\n",
      "Kaduwela                  1943\n",
      "Wattala                   1938\n",
      "Kelaniya                  1934\n",
      "Homagama                  1930\n",
      "Peliyagoda                1839\n",
      "Trincomale                1814\n",
      "Panadura                  1810\n",
      "Batticaloa                1671\n",
      "Anuradhapura              1645\n",
      "Kalmunai                  1634\n",
      "Moratuwa                  1563\n",
      "Madawachiya               1499\n",
      "kalmunai                   599\n",
      "Galle                      456\n",
      "batticaloa                 448\n",
      "Kotte                      379\n",
      "MoraTuwa                   340\n",
      "Trincomalee                258\n",
      "PeliyagodA                 202\n",
      "Name: count, dtype: int64\n"
     ]
    },
    {
     "name": "stderr",
     "output_type": "stream",
     "text": [
      "C:\\Users\\Asus\\AppData\\Local\\Temp\\ipykernel_40672\\849757864.py:8: FutureWarning: ChainedAssignmentError: behaviour will change in pandas 3.0!\n",
      "You are setting values through chained assignment. Currently this works in certain cases, but when using Copy-on-Write (which will become the default behaviour in pandas 3.0) this will never work to update the original DataFrame or Series, because the intermediate object on which we are setting values will behave as a copy.\n",
      "A typical example is when you are setting values in a column of a DataFrame, like:\n",
      "\n",
      "df[\"col\"][row_indexer] = value\n",
      "\n",
      "Use `df.loc[row_indexer, \"col\"] = values` instead, to perform the assignment in a single step and ensure this keeps updating the original `df`.\n",
      "\n",
      "See the caveats in the documentation: https://pandas.pydata.org/pandas-docs/stable/user_guide/indexing.html#returning-a-view-versus-a-copy\n",
      "\n",
      "  test.outlet_city[test.outlet_city=='trincomale']='trincomalee'\n",
      "C:\\Users\\Asus\\AppData\\Local\\Temp\\ipykernel_40672\\849757864.py:8: SettingWithCopyWarning: \n",
      "A value is trying to be set on a copy of a slice from a DataFrame\n",
      "\n",
      "See the caveats in the documentation: https://pandas.pydata.org/pandas-docs/stable/user_guide/indexing.html#returning-a-view-versus-a-copy\n",
      "  test.outlet_city[test.outlet_city=='trincomale']='trincomalee'\n"
     ]
    },
    {
     "name": "stdout",
     "output_type": "stream",
     "text": [
      "cluster_catgeory\n",
      "1.0    188984\n",
      "4.0    172439\n",
      "6.0    169215\n",
      "2.0    155064\n",
      "3.0     48907\n",
      "5.0     39540\n",
      "Name: count, dtype: int64\n"
     ]
    }
   ],
   "source": [
    "print(train['outlet_city'].value_counts())\n",
    "print(test['outlet_city'].value_counts())\n",
    "\n",
    "train['outlet_city'] = train['outlet_city'].str.lower()\n",
    "test['outlet_city'] = test['outlet_city'].str.lower()\n",
    "test['outlet_city'].value_counts()\n",
    "\n",
    "test.outlet_city[test.outlet_city=='trincomale']='trincomalee'\n",
    "train['cluster_catgeory'].value_counts()\n",
    "\n",
    "train['cluster_catgeory'] = train['cluster_catgeory'].astype(str)\n",
    "train['cluster_catgeory'] = train['cluster_catgeory'].str.strip().str.replace('\\\\', '')\n",
    "train['cluster_catgeory'] = train['cluster_catgeory'].replace(['100.0', '98', '95', '89.0', '99'], np.nan)\n",
    "train['cluster_catgeory'] = pd.to_numeric(train['cluster_catgeory'], errors='coerce')\n",
    "cluster_category_counts = train['cluster_catgeory'].value_counts()\n",
    "train = train.dropna()\n",
    "\n",
    "print(cluster_category_counts)\n"
   ]
  },
  {
   "cell_type": "code",
   "execution_count": 9,
   "metadata": {},
   "outputs": [
    {
     "data": {
      "text/plain": [
       "array(['kelaniya', 'moratuwa', 'wattala', 'homagama',\n",
       "       'dehiwala-mount lavinia', 'panadura', 'kaduwela', 'peliyagoda',\n",
       "       'kotte', 'nuwara eliya', 'batticaloa', 'colombo', 'jaffna',\n",
       "       'gampaha', 'kalmunai', 'galle', 'katunayake', 'negombo',\n",
       "       'trincomalee', 'kandy'], dtype=object)"
      ]
     },
     "execution_count": 9,
     "metadata": {},
     "output_type": "execute_result"
    }
   ],
   "source": [
    "train.outlet_city.unique()"
   ]
  },
  {
   "cell_type": "code",
   "execution_count": 10,
   "metadata": {},
   "outputs": [
    {
     "data": {
      "text/plain": [
       "array(['batticaloa', 'colombo', 'dehiwala-mount lavinia', 'anuradhapura',\n",
       "       'galle', 'gampaha', 'homagama', 'jaffna', 'kaduwela', 'kalmunai',\n",
       "       'kandy', 'katunayake', 'kelaniya', 'madawachiya', 'kotte',\n",
       "       'moratuwa', 'negombo', 'nuwara eliya', 'panadura', 'peliyagoda',\n",
       "       'trincomalee', 'wattala'], dtype=object)"
      ]
     },
     "execution_count": 10,
     "metadata": {},
     "output_type": "execute_result"
    }
   ],
   "source": [
    "test.outlet_city.unique()"
   ]
  },
  {
   "cell_type": "code",
   "execution_count": 11,
   "metadata": {},
   "outputs": [],
   "source": [
    "train['Customer_ID'] = train['Customer_ID'].astype(int)\n",
    "train['luxury_sales'] = train['luxury_sales'].astype(float)\n",
    "train['fresh_sales'] = train['fresh_sales'].astype(float)\n",
    "train['dry_sales'] = train['dry_sales'].astype(float)\n",
    "\n",
    "new_category = ['madawachiya', 'anuradhapura']\n",
    "train['outlet_city'] = train['outlet_city'].astype('category')\n",
    "train['outlet_city'] = train['outlet_city'].cat.add_categories(new_category)\n",
    "train['cluster_catgeory'] = train['cluster_catgeory'].astype('int')\n",
    "\n",
    "test['Customer_ID'] = test['Customer_ID'].astype(int)\n",
    "test['luxury_sales'] = test['luxury_sales'].astype(float)\n",
    "test['fresh_sales'] = test['fresh_sales'].astype(float)\n",
    "test['dry_sales'] = test['dry_sales'].astype(float)\n",
    "test['outlet_city'] = test['outlet_city'].astype('category')"
   ]
  },
  {
   "cell_type": "code",
   "execution_count": 12,
   "metadata": {},
   "outputs": [
    {
     "data": {
      "text/plain": [
       "['kelaniya', 'moratuwa', 'wattala', 'homagama', 'dehiwala-mount lavinia', ..., 'galle', 'katunayake', 'negombo', 'trincomalee', 'kandy']\n",
       "Length: 20\n",
       "Categories (22, object): ['batticaloa', 'colombo', 'dehiwala-mount lavinia', 'galle', ..., 'trincomalee', 'wattala', 'madawachiya', 'anuradhapura']"
      ]
     },
     "execution_count": 12,
     "metadata": {},
     "output_type": "execute_result"
    }
   ],
   "source": [
    "train.outlet_city.unique()"
   ]
  },
  {
   "cell_type": "code",
   "execution_count": 13,
   "metadata": {},
   "outputs": [
    {
     "name": "stdout",
     "output_type": "stream",
     "text": [
      "0\n",
      "0\n"
     ]
    }
   ],
   "source": [
    "duplicates_train=train[train.duplicated()].shape[0]\n",
    "duplicates_test=test[test.duplicated()].shape[0]\n",
    "\n",
    "print(duplicates_train)\n",
    "print(duplicates_test)"
   ]
  },
  {
   "cell_type": "code",
   "execution_count": 14,
   "metadata": {},
   "outputs": [
    {
     "name": "stdout",
     "output_type": "stream",
     "text": [
      "<class 'pandas.core.frame.DataFrame'>\n",
      "RangeIndex: 40749 entries, 0 to 40748\n",
      "Data columns (total 5 columns):\n",
      " #   Column        Non-Null Count  Dtype   \n",
      "---  ------        --------------  -----   \n",
      " 0   Customer_ID   40749 non-null  int32   \n",
      " 1   outlet_city   40749 non-null  category\n",
      " 2   luxury_sales  40749 non-null  float64 \n",
      " 3   fresh_sales   40749 non-null  float64 \n",
      " 4   dry_sales     40749 non-null  float64 \n",
      "dtypes: category(1), float64(3), int32(1)\n",
      "memory usage: 1.1 MB\n"
     ]
    }
   ],
   "source": [
    "test.info()"
   ]
  },
  {
   "cell_type": "code",
   "execution_count": 15,
   "metadata": {},
   "outputs": [
    {
     "name": "stdout",
     "output_type": "stream",
     "text": [
      "<class 'pandas.core.frame.DataFrame'>\n",
      "Index: 774047 entries, 0 to 774154\n",
      "Data columns (total 6 columns):\n",
      " #   Column            Non-Null Count   Dtype   \n",
      "---  ------            --------------   -----   \n",
      " 0   Customer_ID       774047 non-null  int32   \n",
      " 1   outlet_city       774047 non-null  category\n",
      " 2   luxury_sales      774047 non-null  float64 \n",
      " 3   fresh_sales       774047 non-null  float64 \n",
      " 4   dry_sales         774047 non-null  float64 \n",
      " 5   cluster_catgeory  774047 non-null  int32   \n",
      "dtypes: category(1), float64(3), int32(2)\n",
      "memory usage: 30.3 MB\n"
     ]
    }
   ],
   "source": [
    "train.info()"
   ]
  },
  {
   "cell_type": "code",
   "execution_count": 16,
   "metadata": {},
   "outputs": [],
   "source": [
    "from sklearn.model_selection import train_test_split\n",
    "\n",
    "df = train.drop(columns=['Customer_ID'])\n",
    "X = df.drop(columns=['cluster_catgeory'])\n",
    "y = train['cluster_catgeory']\n",
    "\n",
    "X_train, X_test, y_train, y_test = train_test_split(X, y, test_size=0.2, random_state=42)"
   ]
  },
  {
   "cell_type": "markdown",
   "metadata": {},
   "source": [
    "# Logistic Regression"
   ]
  },
  {
   "cell_type": "code",
   "execution_count": 17,
   "metadata": {},
   "outputs": [
    {
     "name": "stderr",
     "output_type": "stream",
     "text": [
      "c:\\Users\\Asus\\miniconda3\\envs\\tf\\lib\\site-packages\\sklearn\\linear_model\\_sag.py:350: ConvergenceWarning: The max_iter was reached which means the coef_ did not converge\n",
      "  warnings.warn(\n"
     ]
    },
    {
     "name": "stdout",
     "output_type": "stream",
     "text": [
      "Accuracy Score train: 0.9443960874430953\n",
      "Accuracy Score test: 0.9441638137071249\n"
     ]
    }
   ],
   "source": [
    "from sklearn.pipeline import Pipeline\n",
    "from sklearn.compose import ColumnTransformer\n",
    "from sklearn.preprocessing import StandardScaler,OneHotEncoder,LabelEncoder\n",
    "from sklearn.linear_model import LogisticRegression\n",
    "from sklearn.metrics import accuracy_score\n",
    "\n",
    "categorical_columns = ['outlet_city']\n",
    "num_columns = [ 'luxury_sales', 'fresh_sales', 'dry_sales']\n",
    "\n",
    "le = LabelEncoder()\n",
    "y_train_encoded = le.fit_transform(y_train)\n",
    "y_test_encoded = le.transform(y_test)\n",
    "\n",
    "\n",
    "# Create a column transformer to apply one-hot encoding\n",
    "column_transformer = ColumnTransformer([\n",
    "    ('onehot', OneHotEncoder(), categorical_columns)\n",
    "], remainder='passthrough')\n",
    "\n",
    "# pipeline\n",
    "pipeline = Pipeline([\n",
    "    ('preprocessor', column_transformer),\n",
    "    ('classifier', LogisticRegression(multi_class='multinomial', C=0.01, penalty='l1', solver ='saga'))\n",
    "])\n",
    "\n",
    "# Fit the pipeline on the training data\n",
    "pipeline.fit(X_train, y_train_encoded)\n",
    "\n",
    "# Predict the target values for the test data\n",
    "y_pred = pipeline.predict(X_test)\n",
    "y_pred_tra = pipeline.predict(X_train)\n",
    "\n",
    "# Calculate accuracy score\n",
    "accuracy_tra = accuracy_score(y_train_encoded, y_pred_tra)\n",
    "accuracy_te = accuracy_score(y_test_encoded, y_pred)\n",
    "\n",
    "print(\"Accuracy Score train:\", accuracy_tra)\n",
    "print(\"Accuracy Score test:\", accuracy_te)"
   ]
  },
  {
   "cell_type": "code",
   "execution_count": 20,
   "metadata": {},
   "outputs": [
    {
     "data": {
      "image/png": "[encoded data removed]",
      "text/plain": [
       "<Figure size 800x600 with 2 Axes>"
      ]
     },
     "metadata": {},
     "output_type": "display_data"
    }
   ],
   "source": [
    "from sklearn.metrics import confusion_matrix\n",
    "import matplotlib.pyplot as plt\n",
    "import seaborn as sns\n",
    "\n",
    "# Define the customer category labels\n",
    "category_labels = ['1', '2', '3', '4', '5', '6']\n",
    "\n",
    "# Get confusion matrix\n",
    "conf_matrix = confusion_matrix(y_test_encoded, y_pred)\n",
    "\n",
    "# Plot confusion matrix\n",
    "plt.figure(figsize=(8, 6))\n",
    "sns.heatmap(conf_matrix, annot=True, fmt='d', cmap='YlGnBu', xticklabels=category_labels, yticklabels=category_labels)\n",
    "plt.xlabel('Predicted Label')\n",
    "plt.ylabel('True Label')\n",
    "plt.title('Confusion Matrix of Logistic Regression')\n",
    "plt.show()"
   ]
  },
  {
   "cell_type": "markdown",
   "metadata": {},
   "source": [
    "# Decision Tree Classifier"
   ]
  },
  {
   "cell_type": "code",
   "execution_count": 36,
   "metadata": {},
   "outputs": [
    {
     "name": "stdout",
     "output_type": "stream",
     "text": [
      "Accuracy Score train: 1.0\n",
      "Accuracy Score test: 0.9994380207996899\n"
     ]
    }
   ],
   "source": [
    "from sklearn.pipeline import Pipeline\n",
    "from sklearn.compose import ColumnTransformer\n",
    "from sklearn.preprocessing import StandardScaler,OneHotEncoder,LabelEncoder\n",
    "from sklearn.tree import DecisionTreeClassifier\n",
    "from sklearn.metrics import accuracy_score\n",
    "\n",
    "categorical_columns = ['outlet_city']\n",
    "num_columns = [ 'luxury_sales', 'fresh_sales', 'dry_sales']\n",
    "\n",
    "le = LabelEncoder()\n",
    "y_train_encoded = le.fit_transform(y_train)\n",
    "y_test_encoded = le.transform(y_test)\n",
    "\n",
    "\n",
    "# Create a column transformer to apply one-hot encoding\n",
    "column_transformer = ColumnTransformer([\n",
    "    ('onehot', OneHotEncoder(categories=[city_outlets_list]), categorical_columns)\n",
    "], remainder='passthrough')\n",
    "\n",
    "# pipeline\n",
    "pipeline = Pipeline([\n",
    "    ('preprocessor', column_transformer),\n",
    "    ('classifier', DecisionTreeClassifier())\n",
    "])\n",
    "\n",
    "# Fit the pipeline on the training data\n",
    "pipeline.fit(X_train, y_train_encoded)\n",
    "\n",
    "# Predict the target values for the test data\n",
    "y_pred = pipeline.predict(X_test)\n",
    "y_pred_tra = pipeline.predict(X_train)\n",
    "\n",
    "# Calculate accuracy score\n",
    "accuracy_tra = accuracy_score(y_train_encoded, y_pred_tra)\n",
    "accuracy_te = accuracy_score(y_test_encoded, y_pred)\n",
    "\n",
    "print(\"Accuracy Score train:\", accuracy_tra)\n",
    "print(\"Accuracy Score test:\", accuracy_te)"
   ]
  },
  {
   "cell_type": "code",
   "execution_count": 38,
   "metadata": {},
   "outputs": [
    {
     "data": {
      "image/png": "[encoded data removed]",
      "text/plain": [
       "<Figure size 800x600 with 2 Axes>"
      ]
     },
     "metadata": {},
     "output_type": "display_data"
    }
   ],
   "source": [
    "# Define the customer category labels\n",
    "category_labels = ['1', '2', '3', '4', '5', '6']\n",
    "\n",
    "# Get confusion matrix\n",
    "conf_matrix = confusion_matrix(y_test_encoded, y_pred)\n",
    "\n",
    "# Plot confusion matrix\n",
    "plt.figure(figsize=(8, 6))\n",
    "sns.heatmap(conf_matrix, annot=True, fmt='d', cmap='YlGnBu', xticklabels=category_labels, yticklabels=category_labels)\n",
    "plt.xlabel('Predicted Label')\n",
    "plt.ylabel('True Label')\n",
    "plt.title('Confusion Matrix of Decision Tree')\n",
    "plt.show()"
   ]
  },
  {
   "cell_type": "markdown",
   "metadata": {},
   "source": [
    "# KNN"
   ]
  },
  {
   "cell_type": "code",
   "execution_count": 29,
   "metadata": {},
   "outputs": [
    {
     "ename": "KeyboardInterrupt",
     "evalue": "",
     "output_type": "error",
     "traceback": [
      "\u001b[1;31m---------------------------------------------------------------------------\u001b[0m",
      "\u001b[1;31mKeyboardInterrupt\u001b[0m                         Traceback (most recent call last)",
      "Cell \u001b[1;32mIn[29], line 30\u001b[0m\n\u001b[0;32m     27\u001b[0m pipeline\u001b[38;5;241m.\u001b[39mfit(X_train, y_train_encoded)\n\u001b[0;32m     29\u001b[0m \u001b[38;5;66;03m# Predict the target values for the test data\u001b[39;00m\n\u001b[1;32m---> 30\u001b[0m y_pred \u001b[38;5;241m=\u001b[39m \u001b[43mpipeline\u001b[49m\u001b[38;5;241;43m.\u001b[39;49m\u001b[43mpredict\u001b[49m\u001b[43m(\u001b[49m\u001b[43mX_test\u001b[49m\u001b[43m)\u001b[49m\n\u001b[0;32m     31\u001b[0m y_pred_tra \u001b[38;5;241m=\u001b[39m pipeline\u001b[38;5;241m.\u001b[39mpredict(X_train)\n\u001b[0;32m     33\u001b[0m \u001b[38;5;66;03m# Calculate accuracy score\u001b[39;00m\n",
      "File \u001b[1;32mc:\\Users\\Asus\\miniconda3\\envs\\tf\\lib\\site-packages\\sklearn\\pipeline.py:603\u001b[0m, in \u001b[0;36mPipeline.predict\u001b[1;34m(self, X, **params)\u001b[0m\n\u001b[0;32m    601\u001b[0m     \u001b[38;5;28;01mfor\u001b[39;00m _, name, transform \u001b[38;5;129;01min\u001b[39;00m \u001b[38;5;28mself\u001b[39m\u001b[38;5;241m.\u001b[39m_iter(with_final\u001b[38;5;241m=\u001b[39m\u001b[38;5;28;01mFalse\u001b[39;00m):\n\u001b[0;32m    602\u001b[0m         Xt \u001b[38;5;241m=\u001b[39m transform\u001b[38;5;241m.\u001b[39mtransform(Xt)\n\u001b[1;32m--> 603\u001b[0m     \u001b[38;5;28;01mreturn\u001b[39;00m \u001b[38;5;28mself\u001b[39m\u001b[38;5;241m.\u001b[39msteps[\u001b[38;5;241m-\u001b[39m\u001b[38;5;241m1\u001b[39m][\u001b[38;5;241m1\u001b[39m]\u001b[38;5;241m.\u001b[39mpredict(Xt, \u001b[38;5;241m*\u001b[39m\u001b[38;5;241m*\u001b[39mparams)\n\u001b[0;32m    605\u001b[0m \u001b[38;5;66;03m# metadata routing enabled\u001b[39;00m\n\u001b[0;32m    606\u001b[0m routed_params \u001b[38;5;241m=\u001b[39m process_routing(\u001b[38;5;28mself\u001b[39m, \u001b[38;5;124m\"\u001b[39m\u001b[38;5;124mpredict\u001b[39m\u001b[38;5;124m\"\u001b[39m, \u001b[38;5;241m*\u001b[39m\u001b[38;5;241m*\u001b[39mparams)\n",
      "File \u001b[1;32mc:\\Users\\Asus\\miniconda3\\envs\\tf\\lib\\site-packages\\sklearn\\neighbors\\_classification.py:259\u001b[0m, in \u001b[0;36mKNeighborsClassifier.predict\u001b[1;34m(self, X)\u001b[0m\n\u001b[0;32m    255\u001b[0m \u001b[38;5;28;01mif\u001b[39;00m \u001b[38;5;28mself\u001b[39m\u001b[38;5;241m.\u001b[39mweights \u001b[38;5;241m==\u001b[39m \u001b[38;5;124m\"\u001b[39m\u001b[38;5;124muniform\u001b[39m\u001b[38;5;124m\"\u001b[39m:\n\u001b[0;32m    256\u001b[0m     \u001b[38;5;28;01mif\u001b[39;00m \u001b[38;5;28mself\u001b[39m\u001b[38;5;241m.\u001b[39m_fit_method \u001b[38;5;241m==\u001b[39m \u001b[38;5;124m\"\u001b[39m\u001b[38;5;124mbrute\u001b[39m\u001b[38;5;124m\"\u001b[39m \u001b[38;5;129;01mand\u001b[39;00m ArgKminClassMode\u001b[38;5;241m.\u001b[39mis_usable_for(\n\u001b[0;32m    257\u001b[0m         X, \u001b[38;5;28mself\u001b[39m\u001b[38;5;241m.\u001b[39m_fit_X, \u001b[38;5;28mself\u001b[39m\u001b[38;5;241m.\u001b[39mmetric\n\u001b[0;32m    258\u001b[0m     ):\n\u001b[1;32m--> 259\u001b[0m         probabilities \u001b[38;5;241m=\u001b[39m \u001b[38;5;28;43mself\u001b[39;49m\u001b[38;5;241;43m.\u001b[39;49m\u001b[43mpredict_proba\u001b[49m\u001b[43m(\u001b[49m\u001b[43mX\u001b[49m\u001b[43m)\u001b[49m\n\u001b[0;32m    260\u001b[0m         \u001b[38;5;28;01mif\u001b[39;00m \u001b[38;5;28mself\u001b[39m\u001b[38;5;241m.\u001b[39moutputs_2d_:\n\u001b[0;32m    261\u001b[0m             \u001b[38;5;28;01mreturn\u001b[39;00m np\u001b[38;5;241m.\u001b[39mstack(\n\u001b[0;32m    262\u001b[0m                 [\n\u001b[0;32m    263\u001b[0m                     \u001b[38;5;28mself\u001b[39m\u001b[38;5;241m.\u001b[39mclasses_[idx][np\u001b[38;5;241m.\u001b[39margmax(probas, axis\u001b[38;5;241m=\u001b[39m\u001b[38;5;241m1\u001b[39m)]\n\u001b[1;32m   (...)\u001b[0m\n\u001b[0;32m    266\u001b[0m                 axis\u001b[38;5;241m=\u001b[39m\u001b[38;5;241m1\u001b[39m,\n\u001b[0;32m    267\u001b[0m             )\n",
      "File \u001b[1;32mc:\\Users\\Asus\\miniconda3\\envs\\tf\\lib\\site-packages\\sklearn\\neighbors\\_classification.py:366\u001b[0m, in \u001b[0;36mKNeighborsClassifier.predict_proba\u001b[1;34m(self, X)\u001b[0m\n\u001b[0;32m    362\u001b[0m         \u001b[38;5;28;01mreturn\u001b[39;00m probabilities\n\u001b[0;32m    364\u001b[0m     \u001b[38;5;66;03m# In that case, we do not need the distances to perform\u001b[39;00m\n\u001b[0;32m    365\u001b[0m     \u001b[38;5;66;03m# the weighting so we do not compute them.\u001b[39;00m\n\u001b[1;32m--> 366\u001b[0m     neigh_ind \u001b[38;5;241m=\u001b[39m \u001b[38;5;28;43mself\u001b[39;49m\u001b[38;5;241;43m.\u001b[39;49m\u001b[43mkneighbors\u001b[49m\u001b[43m(\u001b[49m\u001b[43mX\u001b[49m\u001b[43m,\u001b[49m\u001b[43m \u001b[49m\u001b[43mreturn_distance\u001b[49m\u001b[38;5;241;43m=\u001b[39;49m\u001b[38;5;28;43;01mFalse\u001b[39;49;00m\u001b[43m)\u001b[49m\n\u001b[0;32m    367\u001b[0m     neigh_dist \u001b[38;5;241m=\u001b[39m \u001b[38;5;28;01mNone\u001b[39;00m\n\u001b[0;32m    368\u001b[0m \u001b[38;5;28;01melse\u001b[39;00m:\n",
      "File \u001b[1;32mc:\\Users\\Asus\\miniconda3\\envs\\tf\\lib\\site-packages\\sklearn\\neighbors\\_base.py:887\u001b[0m, in \u001b[0;36mKNeighborsMixin.kneighbors\u001b[1;34m(self, X, n_neighbors, return_distance)\u001b[0m\n\u001b[0;32m    884\u001b[0m     \u001b[38;5;28;01melse\u001b[39;00m:\n\u001b[0;32m    885\u001b[0m         kwds \u001b[38;5;241m=\u001b[39m \u001b[38;5;28mself\u001b[39m\u001b[38;5;241m.\u001b[39meffective_metric_params_\n\u001b[1;32m--> 887\u001b[0m     chunked_results \u001b[38;5;241m=\u001b[39m \u001b[38;5;28;43mlist\u001b[39;49m\u001b[43m(\u001b[49m\n\u001b[0;32m    888\u001b[0m \u001b[43m        \u001b[49m\u001b[43mpairwise_distances_chunked\u001b[49m\u001b[43m(\u001b[49m\n\u001b[0;32m    889\u001b[0m \u001b[43m            \u001b[49m\u001b[43mX\u001b[49m\u001b[43m,\u001b[49m\n\u001b[0;32m    890\u001b[0m \u001b[43m            \u001b[49m\u001b[38;5;28;43mself\u001b[39;49m\u001b[38;5;241;43m.\u001b[39;49m\u001b[43m_fit_X\u001b[49m\u001b[43m,\u001b[49m\n\u001b[0;32m    891\u001b[0m \u001b[43m            \u001b[49m\u001b[43mreduce_func\u001b[49m\u001b[38;5;241;43m=\u001b[39;49m\u001b[43mreduce_func\u001b[49m\u001b[43m,\u001b[49m\n\u001b[0;32m    892\u001b[0m \u001b[43m            \u001b[49m\u001b[43mmetric\u001b[49m\u001b[38;5;241;43m=\u001b[39;49m\u001b[38;5;28;43mself\u001b[39;49m\u001b[38;5;241;43m.\u001b[39;49m\u001b[43meffective_metric_\u001b[49m\u001b[43m,\u001b[49m\n\u001b[0;32m    893\u001b[0m \u001b[43m            \u001b[49m\u001b[43mn_jobs\u001b[49m\u001b[38;5;241;43m=\u001b[39;49m\u001b[43mn_jobs\u001b[49m\u001b[43m,\u001b[49m\n\u001b[0;32m    894\u001b[0m \u001b[43m            \u001b[49m\u001b[38;5;241;43m*\u001b[39;49m\u001b[38;5;241;43m*\u001b[39;49m\u001b[43mkwds\u001b[49m\u001b[43m,\u001b[49m\n\u001b[0;32m    895\u001b[0m \u001b[43m        \u001b[49m\u001b[43m)\u001b[49m\n\u001b[0;32m    896\u001b[0m \u001b[43m    \u001b[49m\u001b[43m)\u001b[49m\n\u001b[0;32m    898\u001b[0m \u001b[38;5;28;01melif\u001b[39;00m \u001b[38;5;28mself\u001b[39m\u001b[38;5;241m.\u001b[39m_fit_method \u001b[38;5;129;01min\u001b[39;00m [\u001b[38;5;124m\"\u001b[39m\u001b[38;5;124mball_tree\u001b[39m\u001b[38;5;124m\"\u001b[39m, \u001b[38;5;124m\"\u001b[39m\u001b[38;5;124mkd_tree\u001b[39m\u001b[38;5;124m\"\u001b[39m]:\n\u001b[0;32m    899\u001b[0m     \u001b[38;5;28;01mif\u001b[39;00m issparse(X):\n",
      "File \u001b[1;32mc:\\Users\\Asus\\miniconda3\\envs\\tf\\lib\\site-packages\\sklearn\\metrics\\pairwise.py:2153\u001b[0m, in \u001b[0;36mpairwise_distances_chunked\u001b[1;34m(X, Y, reduce_func, metric, n_jobs, working_memory, **kwds)\u001b[0m\n\u001b[0;32m   2151\u001b[0m \u001b[38;5;28;01mif\u001b[39;00m reduce_func \u001b[38;5;129;01mis\u001b[39;00m \u001b[38;5;129;01mnot\u001b[39;00m \u001b[38;5;28;01mNone\u001b[39;00m:\n\u001b[0;32m   2152\u001b[0m     chunk_size \u001b[38;5;241m=\u001b[39m D_chunk\u001b[38;5;241m.\u001b[39mshape[\u001b[38;5;241m0\u001b[39m]\n\u001b[1;32m-> 2153\u001b[0m     D_chunk \u001b[38;5;241m=\u001b[39m \u001b[43mreduce_func\u001b[49m\u001b[43m(\u001b[49m\u001b[43mD_chunk\u001b[49m\u001b[43m,\u001b[49m\u001b[43m \u001b[49m\u001b[43msl\u001b[49m\u001b[38;5;241;43m.\u001b[39;49m\u001b[43mstart\u001b[49m\u001b[43m)\u001b[49m\n\u001b[0;32m   2154\u001b[0m     _check_chunk_size(D_chunk, chunk_size)\n\u001b[0;32m   2155\u001b[0m \u001b[38;5;28;01myield\u001b[39;00m D_chunk\n",
      "File \u001b[1;32mc:\\Users\\Asus\\miniconda3\\envs\\tf\\lib\\site-packages\\sklearn\\neighbors\\_base.py:739\u001b[0m, in \u001b[0;36mKNeighborsMixin._kneighbors_reduce_func\u001b[1;34m(self, dist, start, n_neighbors, return_distance)\u001b[0m\n\u001b[0;32m    712\u001b[0m \u001b[38;5;250m\u001b[39m\u001b[38;5;124;03m\"\"\"Reduce a chunk of distances to the nearest neighbors.\u001b[39;00m\n\u001b[0;32m    713\u001b[0m \n\u001b[0;32m    714\u001b[0m \u001b[38;5;124;03mCallback to :func:`sklearn.metrics.pairwise.pairwise_distances_chunked`\u001b[39;00m\n\u001b[1;32m   (...)\u001b[0m\n\u001b[0;32m    736\u001b[0m \u001b[38;5;124;03m    The neighbors indices.\u001b[39;00m\n\u001b[0;32m    737\u001b[0m \u001b[38;5;124;03m\"\"\"\u001b[39;00m\n\u001b[0;32m    738\u001b[0m sample_range \u001b[38;5;241m=\u001b[39m np\u001b[38;5;241m.\u001b[39marange(dist\u001b[38;5;241m.\u001b[39mshape[\u001b[38;5;241m0\u001b[39m])[:, \u001b[38;5;28;01mNone\u001b[39;00m]\n\u001b[1;32m--> 739\u001b[0m neigh_ind \u001b[38;5;241m=\u001b[39m \u001b[43mnp\u001b[49m\u001b[38;5;241;43m.\u001b[39;49m\u001b[43margpartition\u001b[49m\u001b[43m(\u001b[49m\u001b[43mdist\u001b[49m\u001b[43m,\u001b[49m\u001b[43m \u001b[49m\u001b[43mn_neighbors\u001b[49m\u001b[43m \u001b[49m\u001b[38;5;241;43m-\u001b[39;49m\u001b[43m \u001b[49m\u001b[38;5;241;43m1\u001b[39;49m\u001b[43m,\u001b[49m\u001b[43m \u001b[49m\u001b[43maxis\u001b[49m\u001b[38;5;241;43m=\u001b[39;49m\u001b[38;5;241;43m1\u001b[39;49m\u001b[43m)\u001b[49m\n\u001b[0;32m    740\u001b[0m neigh_ind \u001b[38;5;241m=\u001b[39m neigh_ind[:, :n_neighbors]\n\u001b[0;32m    741\u001b[0m \u001b[38;5;66;03m# argpartition doesn't guarantee sorted order, so we sort again\u001b[39;00m\n",
      "File \u001b[1;32mc:\\Users\\Asus\\miniconda3\\envs\\tf\\lib\\site-packages\\numpy\\core\\fromnumeric.py:858\u001b[0m, in \u001b[0;36margpartition\u001b[1;34m(a, kth, axis, kind, order)\u001b[0m\n\u001b[0;32m    779\u001b[0m \u001b[38;5;129m@array_function_dispatch\u001b[39m(_argpartition_dispatcher)\n\u001b[0;32m    780\u001b[0m \u001b[38;5;28;01mdef\u001b[39;00m \u001b[38;5;21margpartition\u001b[39m(a, kth, axis\u001b[38;5;241m=\u001b[39m\u001b[38;5;241m-\u001b[39m\u001b[38;5;241m1\u001b[39m, kind\u001b[38;5;241m=\u001b[39m\u001b[38;5;124m'\u001b[39m\u001b[38;5;124mintroselect\u001b[39m\u001b[38;5;124m'\u001b[39m, order\u001b[38;5;241m=\u001b[39m\u001b[38;5;28;01mNone\u001b[39;00m):\n\u001b[0;32m    781\u001b[0m \u001b[38;5;250m    \u001b[39m\u001b[38;5;124;03m\"\"\"\u001b[39;00m\n\u001b[0;32m    782\u001b[0m \u001b[38;5;124;03m    Perform an indirect partition along the given axis using the\u001b[39;00m\n\u001b[0;32m    783\u001b[0m \u001b[38;5;124;03m    algorithm specified by the `kind` keyword. It returns an array of\u001b[39;00m\n\u001b[1;32m   (...)\u001b[0m\n\u001b[0;32m    856\u001b[0m \n\u001b[0;32m    857\u001b[0m \u001b[38;5;124;03m    \"\"\"\u001b[39;00m\n\u001b[1;32m--> 858\u001b[0m     \u001b[38;5;28;01mreturn\u001b[39;00m \u001b[43m_wrapfunc\u001b[49m\u001b[43m(\u001b[49m\u001b[43ma\u001b[49m\u001b[43m,\u001b[49m\u001b[43m \u001b[49m\u001b[38;5;124;43m'\u001b[39;49m\u001b[38;5;124;43margpartition\u001b[39;49m\u001b[38;5;124;43m'\u001b[39;49m\u001b[43m,\u001b[49m\u001b[43m \u001b[49m\u001b[43mkth\u001b[49m\u001b[43m,\u001b[49m\u001b[43m \u001b[49m\u001b[43maxis\u001b[49m\u001b[38;5;241;43m=\u001b[39;49m\u001b[43maxis\u001b[49m\u001b[43m,\u001b[49m\u001b[43m \u001b[49m\u001b[43mkind\u001b[49m\u001b[38;5;241;43m=\u001b[39;49m\u001b[43mkind\u001b[49m\u001b[43m,\u001b[49m\u001b[43m \u001b[49m\u001b[43morder\u001b[49m\u001b[38;5;241;43m=\u001b[39;49m\u001b[43morder\u001b[49m\u001b[43m)\u001b[49m\n",
      "File \u001b[1;32mc:\\Users\\Asus\\miniconda3\\envs\\tf\\lib\\site-packages\\numpy\\core\\fromnumeric.py:59\u001b[0m, in \u001b[0;36m_wrapfunc\u001b[1;34m(obj, method, *args, **kwds)\u001b[0m\n\u001b[0;32m     56\u001b[0m     \u001b[38;5;28;01mreturn\u001b[39;00m _wrapit(obj, method, \u001b[38;5;241m*\u001b[39margs, \u001b[38;5;241m*\u001b[39m\u001b[38;5;241m*\u001b[39mkwds)\n\u001b[0;32m     58\u001b[0m \u001b[38;5;28;01mtry\u001b[39;00m:\n\u001b[1;32m---> 59\u001b[0m     \u001b[38;5;28;01mreturn\u001b[39;00m bound(\u001b[38;5;241m*\u001b[39margs, \u001b[38;5;241m*\u001b[39m\u001b[38;5;241m*\u001b[39mkwds)\n\u001b[0;32m     60\u001b[0m \u001b[38;5;28;01mexcept\u001b[39;00m \u001b[38;5;167;01mTypeError\u001b[39;00m:\n\u001b[0;32m     61\u001b[0m     \u001b[38;5;66;03m# A TypeError occurs if the object does have such a method in its\u001b[39;00m\n\u001b[0;32m     62\u001b[0m     \u001b[38;5;66;03m# class, but its signature is not identical to that of NumPy's. This\u001b[39;00m\n\u001b[1;32m   (...)\u001b[0m\n\u001b[0;32m     66\u001b[0m     \u001b[38;5;66;03m# Call _wrapit from within the except clause to ensure a potential\u001b[39;00m\n\u001b[0;32m     67\u001b[0m     \u001b[38;5;66;03m# exception has a traceback chain.\u001b[39;00m\n\u001b[0;32m     68\u001b[0m     \u001b[38;5;28;01mreturn\u001b[39;00m _wrapit(obj, method, \u001b[38;5;241m*\u001b[39margs, \u001b[38;5;241m*\u001b[39m\u001b[38;5;241m*\u001b[39mkwds)\n",
      "\u001b[1;31mKeyboardInterrupt\u001b[0m: "
     ]
    }
   ],
   "source": [
    "from sklearn.pipeline import Pipeline\n",
    "from sklearn.compose import ColumnTransformer\n",
    "from sklearn.preprocessing import StandardScaler,OneHotEncoder,LabelEncoder\n",
    "from sklearn.neighbors import KNeighborsClassifier\n",
    "from sklearn.metrics import accuracy_score\n",
    "\n",
    "categorical_columns = ['outlet_city']\n",
    "num_columns = [ 'luxury_sales', 'fresh_sales', 'dry_sales']\n",
    "\n",
    "le = LabelEncoder()\n",
    "y_train_encoded = le.fit_transform(y_train)\n",
    "y_test_encoded = le.transform(y_test)\n",
    "\n",
    "\n",
    "# Create a column transformer to apply one-hot encoding\n",
    "column_transformer = ColumnTransformer([\n",
    "    ('onehot', OneHotEncoder(categories=[city_outlets_list]), categorical_columns)\n",
    "], remainder='passthrough')\n",
    "\n",
    "# pipeline\n",
    "pipeline = Pipeline([\n",
    "    ('preprocessor', column_transformer),\n",
    "    ('classifier', KNeighborsClassifier())\n",
    "])\n",
    "\n",
    "# Fit the pipeline on the training data\n",
    "pipeline.fit(X_train, y_train_encoded)\n",
    "\n",
    "# Predict the target values for the test data\n",
    "y_pred = pipeline.predict(X_test)\n",
    "y_pred_tra = pipeline.predict(X_train)\n",
    "\n",
    "# Calculate accuracy score\n",
    "accuracy_tra = accuracy_score(y_train_encoded, y_pred_tra)\n",
    "accuracy_te = accuracy_score(y_test_encoded, y_pred)\n",
    "\n",
    "print(\"Accuracy Score train:\", accuracy_tra)\n",
    "print(\"Accuracy Score test:\", accuracy_te)"
   ]
  },
  {
   "cell_type": "code",
   "execution_count": null,
   "metadata": {},
   "outputs": [],
   "source": [
    "# Define the customer category labels\n",
    "category_labels = ['1', '2', '3', '4', '5', '6']\n",
    "\n",
    "# Get confusion matrix\n",
    "conf_matrix = confusion_matrix(y_test_encoded, y_pred)\n",
    "\n",
    "# Plot confusion matrix\n",
    "plt.figure(figsize=(8, 6))\n",
    "sns.heatmap(conf_matrix, annot=True, fmt='d', cmap='YlGnBu', xticklabels=category_labels, yticklabels=category_labels)\n",
    "plt.xlabel('Predicted Label')\n",
    "plt.ylabel('True Label')\n",
    "plt.title('Confusion Matrix of KNN Classifier')\n",
    "plt.show()"
   ]
  },
  {
   "cell_type": "markdown",
   "metadata": {},
   "source": [
    "# Random Forrest Classifier"
   ]
  },
  {
   "cell_type": "code",
   "execution_count": 25,
   "metadata": {},
   "outputs": [],
   "source": [
    "city_outlets_list=list(set(X_train.outlet_city))"
   ]
  },
  {
   "cell_type": "code",
   "execution_count": 109,
   "metadata": {},
   "outputs": [],
   "source": [
    "city_outlets_list=train.outlet_city.cat.categories"
   ]
  },
  {
   "cell_type": "code",
   "execution_count": 41,
   "metadata": {},
   "outputs": [
    {
     "name": "stdout",
     "output_type": "stream",
     "text": [
      "Accuracy Score train: 0.9989858487138203\n",
      "Accuracy Score test: 0.9988243653510755\n"
     ]
    }
   ],
   "source": [
    "from sklearn.pipeline import Pipeline\n",
    "from sklearn.compose import ColumnTransformer\n",
    "from sklearn.preprocessing import StandardScaler,OneHotEncoder,LabelEncoder\n",
    "from sklearn.ensemble import RandomForestClassifier\n",
    "from sklearn.metrics import accuracy_score\n",
    "\n",
    "categorical_columns = ['outlet_city']\n",
    "num_columns = [ 'luxury_sales', 'fresh_sales', 'dry_sales']\n",
    "\n",
    "le = LabelEncoder()\n",
    "y_train_encoded = le.fit_transform(y_train)\n",
    "y_test_encoded = le.transform(y_test)\n",
    "\n",
    "\n",
    "# Create a column transformer to apply one-hot encoding\n",
    "column_transformer = ColumnTransformer([\n",
    "    ('onehot', OneHotEncoder(categories=[city_outlets_list]), categorical_columns)\n",
    "], remainder='passthrough')\n",
    "\n",
    "# pipeline\n",
    "pipeline = Pipeline([\n",
    "    ('preprocessor', column_transformer),\n",
    "    ('classifier', RandomForestClassifier(criterion=\"gini\", max_depth=8, min_samples_split=10, random_state=100))\n",
    "])\n",
    "\n",
    "# Fit the pipeline on the training data\n",
    "pipeline.fit(X_train, y_train_encoded)\n",
    "\n",
    "# Predict the target values for the test data\n",
    "y_pred = pipeline.predict(X_test)\n",
    "y_pred_tra = pipeline.predict(X_train)\n",
    "\n",
    "# Calculate accuracy score\n",
    "accuracy_tra = accuracy_score(y_train_encoded, y_pred_tra)\n",
    "accuracy_te = accuracy_score(y_test_encoded, y_pred)\n",
    "\n",
    "print(\"Accuracy Score train:\", accuracy_tra)\n",
    "print(\"Accuracy Score test:\", accuracy_te)"
   ]
  },
  {
   "cell_type": "code",
   "execution_count": 42,
   "metadata": {},
   "outputs": [
    {
     "data": {
      "image/png": "[encoded data removed]",
      "text/plain": [
       "<Figure size 800x600 with 2 Axes>"
      ]
     },
     "metadata": {},
     "output_type": "display_data"
    }
   ],
   "source": [
    "# Define the customer category labels\n",
    "category_labels = ['1', '2', '3', '4', '5', '6']\n",
    "\n",
    "# Get confusion matrix\n",
    "conf_matrix = confusion_matrix(y_test_encoded, y_pred)\n",
    "\n",
    "# Plot confusion matrix\n",
    "plt.figure(figsize=(8, 6))\n",
    "sns.heatmap(conf_matrix, annot=True, fmt='d', cmap='YlGnBu', xticklabels=category_labels, yticklabels=category_labels)\n",
    "plt.xlabel('Predicted Label')\n",
    "plt.ylabel('True Label')\n",
    "plt.title('Confusion Matrix of Random Forrest')\n",
    "plt.show()"
   ]
  },
  {
   "cell_type": "markdown",
   "metadata": {},
   "source": [
    "# XGBoost Classifier"
   ]
  },
  {
   "cell_type": "code",
   "execution_count": 39,
   "metadata": {},
   "outputs": [
    {
     "name": "stdout",
     "output_type": "stream",
     "text": [
      "Accuracy Score train: 0.9998062131300294\n",
      "Accuracy Score test: 0.9997739164136684\n"
     ]
    }
   ],
   "source": [
    "from sklearn.pipeline import Pipeline\n",
    "from sklearn.compose import ColumnTransformer\n",
    "from sklearn.preprocessing import StandardScaler,OneHotEncoder,LabelEncoder\n",
    "import xgboost as xgb\n",
    "from sklearn.metrics import accuracy_score\n",
    "\n",
    "categorical_columns = ['outlet_city']\n",
    "num_columns = [ 'luxury_sales', 'fresh_sales', 'dry_sales']\n",
    "\n",
    "le = LabelEncoder()\n",
    "y_train_encoded = le.fit_transform(y_train)\n",
    "y_test_encoded = le.transform(y_test)\n",
    "\n",
    "\n",
    "# Create a column transformer to apply one-hot encoding\n",
    "column_transformer = ColumnTransformer([\n",
    "    ('onehot', OneHotEncoder(categories=[city_outlets_list]), categorical_columns)\n",
    "], remainder='passthrough')\n",
    "\n",
    "# pipeline\n",
    "pipeline = Pipeline([\n",
    "    ('preprocessor', column_transformer),\n",
    "    ('classifier', xgb.XGBClassifier(random_state=100))\n",
    "])\n",
    "\n",
    "# Fit the pipeline on the training data\n",
    "pipeline.fit(X_train, y_train_encoded)\n",
    "\n",
    "# Predict the target values for the test data\n",
    "y_pred = pipeline.predict(X_test)\n",
    "y_pred_tra = pipeline.predict(X_train)\n",
    "\n",
    "# Calculate accuracy score\n",
    "accuracy_tra = accuracy_score(y_train_encoded, y_pred_tra)\n",
    "accuracy_te = accuracy_score(y_test_encoded, y_pred)\n",
    "\n",
    "print(\"Accuracy Score train:\", accuracy_tra)\n",
    "print(\"Accuracy Score test:\", accuracy_te)"
   ]
  },
  {
   "cell_type": "code",
   "execution_count": 53,
   "metadata": {},
   "outputs": [
    {
     "data": {
      "image/png": "[encoded data removed]",
      "text/plain": [
       "<Figure size 800x600 with 2 Axes>"
      ]
     },
     "metadata": {},
     "output_type": "display_data"
    }
   ],
   "source": [
    "# Define the customer category labels\n",
    "category_labels = ['1', '2', '3', '4', '5', '6']\n",
    "\n",
    "# Get confusion matrix\n",
    "conf_matrix = confusion_matrix(y_test_encoded, y_pred)\n",
    "\n",
    "# Plot confusion matrix\n",
    "plt.figure(figsize=(8, 6))\n",
    "sns.heatmap(conf_matrix, annot=True, fmt='d', cmap='YlGnBu', xticklabels=category_labels, yticklabels=category_labels)\n",
    "plt.xlabel('Predicted Label')\n",
    "plt.ylabel('True Label')\n",
    "plt.title('Confusion Matrix of XGBoost Classifier')\n",
    "plt.show()"
   ]
  },
  {
   "cell_type": "markdown",
   "metadata": {},
   "source": [
    "# Naive Bayes Classifier"
   ]
  },
  {
   "cell_type": "code",
   "execution_count": 48,
   "metadata": {},
   "outputs": [
    {
     "name": "stdout",
     "output_type": "stream",
     "text": [
      "Accuracy Score: 0.9805180543892513\n"
     ]
    }
   ],
   "source": [
    "from sklearn.naive_bayes import GaussianNB\n",
    "from sklearn.preprocessing import OneHotEncoder\n",
    "\n",
    "# Define the columns to be one-hot encoded\n",
    "categorical_columns = ['outlet_city']\n",
    "\n",
    "# Create a one-hot encoder\n",
    "onehot_encoder = OneHotEncoder()\n",
    "\n",
    "# Fit and transform the categorical columns\n",
    "X_train_encoded = onehot_encoder.fit_transform(X_train[categorical_columns])\n",
    "X_test_encoded = onehot_encoder.transform(X_test[categorical_columns])\n",
    "\n",
    "# Concatenate the encoded categorical columns with the numeric columns\n",
    "X_train_processed = np.concatenate((X_train_encoded.toarray(), X_train.drop(columns=categorical_columns).values), axis=1)\n",
    "X_test_processed = np.concatenate((X_test_encoded.toarray(), X_test.drop(columns=categorical_columns).values), axis=1)\n",
    "\n",
    "# Create the Gaussian Naive Bayes classifier\n",
    "classifier = GaussianNB()\n",
    "\n",
    "# Fit the classifier on the training data\n",
    "classifier.fit(X_train_processed, y_train)\n",
    "\n",
    "# Predict the target values for the test data\n",
    "y_pred = classifier.predict(X_test_processed)\n",
    "\n",
    "# Calculate accuracy score\n",
    "accuracy = accuracy_score(y_test, y_pred)\n",
    "print(\"Accuracy Test Score:\", accuracy)\n",
    "\n"
   ]
  },
  {
   "cell_type": "code",
   "execution_count": 51,
   "metadata": {},
   "outputs": [
    {
     "data": {
      "image/png": "[encoded data removed]",
      "text/plain": [
       "<Figure size 800x600 with 2 Axes>"
      ]
     },
     "metadata": {},
     "output_type": "display_data"
    }
   ],
   "source": [
    "# Define the customer category labels\n",
    "category_labels = ['1', '2', '3', '4', '5', '6']\n",
    "\n",
    "# Get confusion matrix\n",
    "conf_matrix = confusion_matrix(y_test, y_pred)\n",
    "\n",
    "# Plot confusion matrix\n",
    "plt.figure(figsize=(8, 6))\n",
    "sns.heatmap(conf_matrix, annot=True, fmt='d', cmap='YlGnBu', xticklabels=category_labels, yticklabels=category_labels)\n",
    "plt.xlabel('Predicted Label')\n",
    "plt.ylabel('True Label')\n",
    "plt.title('Confusion Matrix of Gaussian  Naive Bayes  Classifier')\n",
    "plt.show()"
   ]
  },
  {
   "cell_type": "code",
   "execution_count": 47,
   "metadata": {},
   "outputs": [
    {
     "data": {
      "text/plain": [
       "array([[    0.  ,     0.  ,     0.  , ...,   726.5 ,  4794.9 ,  1307.7 ],\n",
       "       [    0.  ,     0.  ,     0.  , ...,  3467.7 , 12714.9 ,  2504.45],\n",
       "       [    0.  ,     0.  ,     0.  , ...,  2702.7 ,  2866.5 ,  2702.7 ],\n",
       "       ...,\n",
       "       [    0.  ,     0.  ,     0.  , ...,  2027.2 ,  1267.  ,  8869.  ],\n",
       "       [    0.  ,     0.  ,     0.  , ...,  2084.16,  9118.2 ,  1693.38],\n",
       "       [    0.  ,     0.  ,     0.  , ...,  1450.62,  1128.26,  5318.94]])"
      ]
     },
     "execution_count": 47,
     "metadata": {},
     "output_type": "execute_result"
    }
   ],
   "source": [
    "X_train_processed"
   ]
  },
  {
   "cell_type": "code",
   "execution_count": 117,
   "metadata": {},
   "outputs": [],
   "source": [
    "test_customer_id=test.Customer_ID\n",
    "X_TEST=test.drop(columns='Customer_ID',axis=1)"
   ]
  },
  {
   "cell_type": "code",
   "execution_count": 118,
   "metadata": {},
   "outputs": [
    {
     "name": "stdout",
     "output_type": "stream",
     "text": [
      "<class 'pandas.core.frame.DataFrame'>\n",
      "RangeIndex: 40749 entries, 0 to 40748\n",
      "Data columns (total 4 columns):\n",
      " #   Column        Non-Null Count  Dtype   \n",
      "---  ------        --------------  -----   \n",
      " 0   outlet_city   40749 non-null  category\n",
      " 1   luxury_sales  40749 non-null  float64 \n",
      " 2   fresh_sales   40749 non-null  float64 \n",
      " 3   dry_sales     40749 non-null  float64 \n",
      "dtypes: category(1), float64(3)\n",
      "memory usage: 995.7 KB\n"
     ]
    }
   ],
   "source": [
    "X_TEST.info()"
   ]
  },
  {
   "cell_type": "code",
   "execution_count": 170,
   "metadata": {},
   "outputs": [],
   "source": [
    "y_pred_test = pipeline.predict(X_TEST)\n",
    "y_pred_test_final=y_pred_test+1"
   ]
  },
  {
   "cell_type": "code",
   "execution_count": 171,
   "metadata": {},
   "outputs": [
    {
     "data": {
      "text/plain": [
       "[1, 2, 3, 4, 5, 6]"
      ]
     },
     "execution_count": 171,
     "metadata": {},
     "output_type": "execute_result"
    }
   ],
   "source": [
    "list(set(y_pred_test_final))"
   ]
  },
  {
   "cell_type": "code",
   "execution_count": 172,
   "metadata": {},
   "outputs": [],
   "source": [
    "sub_dict={\"Customer_ID\":test_customer_id,\"cluster_category\":y_pred_test_final}\n",
    "sub6=pd.DataFrame(sub_dict)"
   ]
  },
  {
   "cell_type": "code",
   "execution_count": 173,
   "metadata": {},
   "outputs": [
    {
     "data": {
      "text/plain": [
       "(40749, 2)"
      ]
     },
     "execution_count": 173,
     "metadata": {},
     "output_type": "execute_result"
    }
   ],
   "source": [
    "sub6.shape"
   ]
  },
  {
   "cell_type": "code",
   "execution_count": 175,
   "metadata": {},
   "outputs": [],
   "source": [
    "sub6.to_csv(\"../Datasets/sub8.csv\",index=False)"
   ]
  },
  {
   "cell_type": "code",
   "execution_count": null,
   "metadata": {},
   "outputs": [],
   "source": [
    "'madawachiya', 'anuradhapura'"
   ]
  },
  {
   "cell_type": "code",
   "execution_count": 251,
   "metadata": {},
   "outputs": [],
   "source": [
    "mask = test['outlet_city'].isin(['madawachiya', 'anuradhapura'])"
   ]
  },
  {
   "cell_type": "code",
   "execution_count": 252,
   "metadata": {},
   "outputs": [],
   "source": [
    "#creating new test data\n",
    "anuradhapura_madavachchi_data=test.loc[mask,:]\n",
    "anuradhapura_madavachchi_data = anuradhapura_madavachchi_data.drop(columns=['Customer_ID','outlet_city'],axis=1)"
   ]
  },
  {
   "cell_type": "code",
   "execution_count": 253,
   "metadata": {},
   "outputs": [
    {
     "data": {
      "text/plain": [
       "(625525, 3)"
      ]
     },
     "execution_count": 253,
     "metadata": {},
     "output_type": "execute_result"
    }
   ],
   "source": [
    "anuradhapura_madavachchi_data_train=X_train.drop(columns='outlet_city',axis=1)\n",
    "anuradhapura_madavachchi_data_train.shape"
   ]
  },
  {
   "cell_type": "code",
   "execution_count": 254,
   "metadata": {},
   "outputs": [
    {
     "data": {
      "text/plain": [
       "(154810, 3)"
      ]
     },
     "execution_count": 254,
     "metadata": {},
     "output_type": "execute_result"
    }
   ],
   "source": [
    "anuradhapura_madavachchi_data_test=X_test.drop(columns='outlet_city',axis=1)\n",
    "anuradhapura_madavachchi_data_test.shape"
   ]
  },
  {
   "cell_type": "code",
   "execution_count": 256,
   "metadata": {},
   "outputs": [
    {
     "name": "stdout",
     "output_type": "stream",
     "text": [
      "Accuracy Score train: 0.9990871667799048\n",
      "Accuracy Score test: 0.9501840966345844\n"
     ]
    }
   ],
   "source": [
    "from sklearn.pipeline import Pipeline\n",
    "from sklearn.compose import ColumnTransformer\n",
    "from sklearn.preprocessing import StandardScaler,OneHotEncoder,LabelEncoder\n",
    "from sklearn.ensemble import RandomForestClassifier\n",
    "from sklearn.metrics import accuracy_score\n",
    "\n",
    "num_columns = [ 'luxury_sales', 'fresh_sales', 'dry_sales']\n",
    "\n",
    "le = LabelEncoder()\n",
    "y_train_encoded = le.fit_transform(y_train)\n",
    "y_test_encoded = le.transform(y_test)\n",
    "\n",
    "\n",
    "# Create a column transformer to apply one-hot encoding\n",
    "\n",
    "# pipeline\n",
    "pipeline = Pipeline([\n",
    "    ('classifier', RandomForestClassifier(random_state=100))\n",
    "])\n",
    "\n",
    "# Fit the pipeline on the training data\n",
    "pipeline.fit(anuradhapura_madavachchi_data_train, y_train_encoded)\n",
    "\n",
    "# Predict the target values for the test data\n",
    "y_pred = pipeline.predict(anuradhapura_madavachchi_data_test)\n",
    "y_pred_tra = pipeline.predict(anuradhapura_madavachchi_data_train)\n",
    "\n",
    "# Calculate accuracy score\n",
    "accuracy_tra = accuracy_score(y_train_encoded, y_pred_tra)\n",
    "accuracy_te = accuracy_score(y_test_encoded, y_pred)\n",
    "\n",
    "print(\"Accuracy Score train:\", accuracy_tra)\n",
    "print(\"Accuracy Score test:\", accuracy_te)"
   ]
  },
  {
   "cell_type": "code",
   "execution_count": 211,
   "metadata": {},
   "outputs": [
    {
     "data": {
      "text/plain": [
       "array([1, 1, 1, ..., 2, 2, 2], dtype=int64)"
      ]
     },
     "execution_count": 211,
     "metadata": {},
     "output_type": "execute_result"
    }
   ],
   "source": [
    "y_pred=pipeline.predict(anuradhapura_madavachchi_data)\n",
    "y_pred=y_pred+1\n",
    "y_pred"
   ]
  },
  {
   "cell_type": "code",
   "execution_count": 223,
   "metadata": {},
   "outputs": [
    {
     "data": {
      "text/html": [
       "<div>\n",
       "<style scoped>\n",
       "    .dataframe tbody tr th:only-of-type {\n",
       "        vertical-align: middle;\n",
       "    }\n",
       "\n",
       "    .dataframe tbody tr th {\n",
       "        vertical-align: top;\n",
       "    }\n",
       "\n",
       "    .dataframe thead th {\n",
       "        text-align: right;\n",
       "    }\n",
       "</style>\n",
       "<table border=\"1\" class=\"dataframe\">\n",
       "  <thead>\n",
       "    <tr style=\"text-align: right;\">\n",
       "      <th></th>\n",
       "      <th>outlet_city</th>\n",
       "      <th>luxury_sales</th>\n",
       "      <th>fresh_sales</th>\n",
       "      <th>dry_sales</th>\n",
       "      <th>Labels</th>\n",
       "    </tr>\n",
       "  </thead>\n",
       "  <tbody>\n",
       "    <tr>\n",
       "      <th>6192</th>\n",
       "      <td>anuradhapura</td>\n",
       "      <td>1708.80</td>\n",
       "      <td>3246.72</td>\n",
       "      <td>11107.20</td>\n",
       "      <td>1</td>\n",
       "    </tr>\n",
       "    <tr>\n",
       "      <th>6193</th>\n",
       "      <td>anuradhapura</td>\n",
       "      <td>1810.50</td>\n",
       "      <td>3077.85</td>\n",
       "      <td>12673.50</td>\n",
       "      <td>1</td>\n",
       "    </tr>\n",
       "    <tr>\n",
       "      <th>6194</th>\n",
       "      <td>anuradhapura</td>\n",
       "      <td>1228.78</td>\n",
       "      <td>1755.40</td>\n",
       "      <td>5880.59</td>\n",
       "      <td>1</td>\n",
       "    </tr>\n",
       "    <tr>\n",
       "      <th>6195</th>\n",
       "      <td>anuradhapura</td>\n",
       "      <td>1642.55</td>\n",
       "      <td>2021.60</td>\n",
       "      <td>8339.10</td>\n",
       "      <td>1</td>\n",
       "    </tr>\n",
       "    <tr>\n",
       "      <th>6196</th>\n",
       "      <td>anuradhapura</td>\n",
       "      <td>1119.16</td>\n",
       "      <td>1358.98</td>\n",
       "      <td>5515.86</td>\n",
       "      <td>1</td>\n",
       "    </tr>\n",
       "    <tr>\n",
       "      <th>...</th>\n",
       "      <td>...</td>\n",
       "      <td>...</td>\n",
       "      <td>...</td>\n",
       "      <td>...</td>\n",
       "      <td>...</td>\n",
       "    </tr>\n",
       "    <tr>\n",
       "      <th>26509</th>\n",
       "      <td>madawachiya</td>\n",
       "      <td>1629.42</td>\n",
       "      <td>8272.44</td>\n",
       "      <td>2130.78</td>\n",
       "      <td>2</td>\n",
       "    </tr>\n",
       "    <tr>\n",
       "      <th>26510</th>\n",
       "      <td>madawachiya</td>\n",
       "      <td>975.45</td>\n",
       "      <td>4226.95</td>\n",
       "      <td>1170.54</td>\n",
       "      <td>2</td>\n",
       "    </tr>\n",
       "    <tr>\n",
       "      <th>26511</th>\n",
       "      <td>madawachiya</td>\n",
       "      <td>741.73</td>\n",
       "      <td>4585.24</td>\n",
       "      <td>1348.60</td>\n",
       "      <td>2</td>\n",
       "    </tr>\n",
       "    <tr>\n",
       "      <th>26512</th>\n",
       "      <td>madawachiya</td>\n",
       "      <td>1417.32</td>\n",
       "      <td>7913.37</td>\n",
       "      <td>2125.98</td>\n",
       "      <td>2</td>\n",
       "    </tr>\n",
       "    <tr>\n",
       "      <th>26513</th>\n",
       "      <td>madawachiya</td>\n",
       "      <td>968.77</td>\n",
       "      <td>5988.76</td>\n",
       "      <td>1673.33</td>\n",
       "      <td>2</td>\n",
       "    </tr>\n",
       "  </tbody>\n",
       "</table>\n",
       "<p>3144 rows × 5 columns</p>\n",
       "</div>"
      ],
      "text/plain": [
       "        outlet_city  luxury_sales  fresh_sales  dry_sales  Labels\n",
       "6192   anuradhapura       1708.80      3246.72   11107.20       1\n",
       "6193   anuradhapura       1810.50      3077.85   12673.50       1\n",
       "6194   anuradhapura       1228.78      1755.40    5880.59       1\n",
       "6195   anuradhapura       1642.55      2021.60    8339.10       1\n",
       "6196   anuradhapura       1119.16      1358.98    5515.86       1\n",
       "...             ...           ...          ...        ...     ...\n",
       "26509   madawachiya       1629.42      8272.44    2130.78       2\n",
       "26510   madawachiya        975.45      4226.95    1170.54       2\n",
       "26511   madawachiya        741.73      4585.24    1348.60       2\n",
       "26512   madawachiya       1417.32      7913.37    2125.98       2\n",
       "26513   madawachiya        968.77      5988.76    1673.33       2\n",
       "\n",
       "[3144 rows x 5 columns]"
      ]
     },
     "execution_count": 223,
     "metadata": {},
     "output_type": "execute_result"
    }
   ],
   "source": [
    "anuradhapura_madavachchi_data_new=test.loc[mask,:]\n",
    "anuradhapura_madavachchi_data_new=anuradhapura_madavachchi_data_new.drop(columns=['Customer_ID'],axis=1)\n",
    "anuradhapura_madavachchi_data_new['Labels']=y_pred\n",
    "anuradhapura_madavachchi_data_new"
   ]
  },
  {
   "cell_type": "code",
   "execution_count": 236,
   "metadata": {},
   "outputs": [],
   "source": [
    "X_train['Labels']=y_train\n",
    "X_TRAIN_FINAL=pd.concat([X_train,anuradhapura_madavachchi_data_new])\n"
   ]
  },
  {
   "cell_type": "code",
   "execution_count": 239,
   "metadata": {},
   "outputs": [],
   "source": [
    "y_train=X_TRAIN_FINAL.Labels\n",
    "X_train=X_TRAIN_FINAL.drop(columns='Labels',axis=1)"
   ]
  },
  {
   "cell_type": "code",
   "execution_count": 243,
   "metadata": {},
   "outputs": [
    {
     "data": {
      "text/plain": [
       "(625525,)"
      ]
     },
     "execution_count": 243,
     "metadata": {},
     "output_type": "execute_result"
    }
   ],
   "source": [
    "y_train.shape"
   ]
  },
  {
   "cell_type": "code",
   "execution_count": 244,
   "metadata": {},
   "outputs": [
    {
     "data": {
      "text/plain": [
       "(625525, 4)"
      ]
     },
     "execution_count": 244,
     "metadata": {},
     "output_type": "execute_result"
    }
   ],
   "source": [
    "X_train.shape"
   ]
  },
  {
   "cell_type": "code",
   "execution_count": 245,
   "metadata": {},
   "outputs": [
    {
     "name": "stdout",
     "output_type": "stream",
     "text": [
      "Accuracy Score train: 0.9998081611446386\n",
      "Accuracy Score test: 0.9997739164136684\n"
     ]
    }
   ],
   "source": [
    "from sklearn.pipeline import Pipeline\n",
    "from sklearn.compose import ColumnTransformer\n",
    "from sklearn.preprocessing import StandardScaler,OneHotEncoder,LabelEncoder\n",
    "import xgboost as xgb\n",
    "from sklearn.metrics import accuracy_score\n",
    "\n",
    "categorical_columns = ['outlet_city']\n",
    "num_columns = [ 'luxury_sales', 'fresh_sales', 'dry_sales']\n",
    "\n",
    "le = LabelEncoder()\n",
    "y_train_encoded = le.fit_transform(y_train)\n",
    "y_test_encoded = le.transform(y_test)\n",
    "\n",
    "\n",
    "# Create a column transformer to apply one-hot encoding\n",
    "column_transformer = ColumnTransformer([\n",
    "    ('onehot', OneHotEncoder(categories=[city_outlets_list]), categorical_columns)\n",
    "], remainder='passthrough')\n",
    "\n",
    "# pipeline\n",
    "pipeline = Pipeline([\n",
    "    ('preprocessor', column_transformer),\n",
    "    ('classifier', xgb.XGBClassifier(random_state=100))\n",
    "])\n",
    "\n",
    "# Fit the pipeline on the training data\n",
    "pipeline.fit(X_train, y_train_encoded)\n",
    "\n",
    "# Predict the target values for the test data\n",
    "y_pred = pipeline.predict(X_test)\n",
    "y_pred_tra = pipeline.predict(X_train)\n",
    "\n",
    "# Calculate accuracy score\n",
    "accuracy_tra = accuracy_score(y_train_encoded, y_pred_tra)\n",
    "accuracy_te = accuracy_score(y_test_encoded, y_pred)\n",
    "\n",
    "print(\"Accuracy Score train:\", accuracy_tra)\n",
    "print(\"Accuracy Score test:\", accuracy_te)"
   ]
  },
  {
   "cell_type": "code",
   "execution_count": 246,
   "metadata": {},
   "outputs": [
    {
     "data": {
      "text/plain": [
       "[1, 2, 3, 4, 5, 6]"
      ]
     },
     "execution_count": 246,
     "metadata": {},
     "output_type": "execute_result"
    }
   ],
   "source": [
    "y_pred_test = pipeline.predict(X_TEST)\n",
    "y_pred_test_final=y_pred_test+1\n",
    "\n",
    "list(set(y_pred_test_final))"
   ]
  },
  {
   "cell_type": "code",
   "execution_count": 249,
   "metadata": {},
   "outputs": [],
   "source": [
    "sub_dict={\"Customer_ID\":test_customer_id,\"cluster_category\":y_pred_test_final}\n",
    "sub9=pd.DataFrame(sub_dict)\n",
    "sub9.to_csv(\"../Datasets/Sub9.csv\",index=False)"
   ]
  }
 ],
 "metadata": {
  "kernelspec": {
   "display_name": "Python 3",
   "language": "python",
   "name": "python3"
  },
  "language_info": {
   "codemirror_mode": {
    "name": "ipython",
    "version": 3
   },
   "file_extension": ".py",
   "mimetype": "text/x-python",
   "name": "python",
   "nbconvert_exporter": "python",
   "pygments_lexer": "ipython3",
   "version": "3.10.14"
  }
 },
 "nbformat": 4,
 "nbformat_minor": 2
}
